{
 "cells": [
  {
   "cell_type": "code",
   "execution_count": 2,
   "metadata": {},
   "outputs": [],
   "source": [
    "import tarfile\n",
    "import os\n",
    "import shutil\n",
    "from urllib.request import urlopen\n",
    "from contextlib import closing\n",
    "\n",
    "#Data downloading \n",
    "\n",
    "#relative path of train/test data folder\n",
    "imdb_train_data_folder = \"./aclImdb/train\"\n",
    "imdb_test_data_folder = \"./aclImdb/test\"\n",
    "\n",
    "URL=\"http://ai.stanford.edu/~amaas/data/sentiment/aclImdb_v1.tar.gz\"\n",
    "ARCHIVE_NAME = \"aclImdb_v1.tar\"\n",
    "\n",
    "if not os.path.exists(\"aclImdb\"):\n",
    "    opener = urlopen(URL)\n",
    "    \n",
    "    #downloading and extract all files.\n",
    "    with open(ARCHIVE_NAME, 'wb') as archive:\n",
    "        archive.write(opener.read())\n",
    "        \n",
    "    with closing(tarfile.open(ARCHIVE_NAME, \"r:gz\")) as archive:\n",
    "        archive.extractall(path='.')\n",
    "        \n",
    "    test_folder = os.listdir(imdb_test_data_folder)\n",
    "    train_folder = os.listdir(imdb_train_data_folder)\n",
    "    \n",
    "    #remove .txt, .feat, and unsup folder.\n",
    "    for item in train_folder:\n",
    "        if (item.endswith(\".feat\") or item.endswith(\".txt\")):\n",
    "            os.remove(os.path.join(imdb_train_data_folder, item))\n",
    "    shutil.rmtree(os.path.join(imdb_train_data_folder,\"unsup\"))\n",
    "    for item in test_folder:\n",
    "        if (item.endswith(\".feat\") or item.endswith(\".txt\")):\n",
    "            os.remove(os.path.join(imdb_test_data_folder, item))\n",
    "    os.remove(ARCHIVE_NAME)\n",
    "#remove archieve\n",
    "\n"
   ]
  },
  {
   "cell_type": "code",
   "execution_count": 27,
   "metadata": {},
   "outputs": [
    {
     "name": "stdout",
     "output_type": "stream",
     "text": [
      "train_samples: 25000\n",
      "test_samples: 25000\n"
     ]
    }
   ],
   "source": [
    "import sys\n",
    "from sklearn.svm import LinearSVC\n",
    "from sklearn.pipeline import Pipeline\n",
    "from sklearn.model_selection import GridSearchCV\n",
    "from sklearn.datasets import load_files\n",
    "from sklearn.model_selection import train_test_split\n",
    "from sklearn import metrics\n",
    "\n",
    "#loads the data from folder\n",
    "imdb_train_data = load_files(imdb_train_data_folder,shuffle=False)\n",
    "print(\"train_samples: %d\" % len(imdb_train_data.data))\n",
    "\n",
    "imdb_test_data = load_files(imdb_test_data_folder,shuffle=False)\n",
    "print(\"test_samples: %d\" % len(imdb_test_data.data))\n"
   ]
  },
  {
   "cell_type": "code",
   "execution_count": 32,
   "metadata": {},
   "outputs": [
    {
     "name": "stdout",
     "output_type": "stream",
     "text": [
      "(25000, 74849)\n",
      "(25000, 74538)\n"
     ]
    }
   ],
   "source": [
    "from sklearn.feature_extraction.text import CountVectorizer\n",
    "\n",
    "#Builds a dictionary of features and transforms \n",
    "#documents to feature vectors: \n",
    "count_vect= CountVectorizer()\n",
    "#second one exclude stopwords, like 'the','of'..\n",
    "count_vect2= CountVectorizer(stop_words='english') \n",
    "\n",
    "X_train_counts = count_vect.fit_transform(imdb_train_data.data)\n",
    "X_train_counts2 = count_vect2.fit_transform(imdb_train_data.data)\n",
    "\n",
    "print(X_train_counts.shape)\n",
    "print(X_train_counts2.shape)"
   ]
  },
  {
   "cell_type": "code",
   "execution_count": 33,
   "metadata": {},
   "outputs": [
    {
     "name": "stdout",
     "output_type": "stream",
     "text": [
      "(25000, 74849)\n",
      "(25000, 74538)\n"
     ]
    }
   ],
   "source": [
    "from sklearn.feature_extraction.text import TfidfTransformer\n",
    "\n",
    "#transform our count-matrix to a tf-idf representation\n",
    "#Similarly. a suffix 2 meaning we remove the stopwords\n",
    "tfidf_transformer = TfidfTransformer()\n",
    "tfidf_transformer2 = TfidfTransformer()\n",
    "X_train_tfidf = tfidf_transformer.fit_transform(X_train_counts)\n",
    "X_train_tfidf2 = tfidf_transformer2.fit_transform(X_train_counts2)\n",
    "\n",
    "print(X_train_tfidf.shape)\n",
    "print(X_train_tfidf2.shape)\n"
   ]
  },
  {
   "cell_type": "code",
   "execution_count": 35,
   "metadata": {},
   "outputs": [],
   "source": [
    "import pandas as pd\n",
    "\n",
    "# get the first document\n",
    "first_vector=X_train_tfidf[10]\n",
    "first_vector2=X_train_tfidf2[10]\n",
    " \n",
    "# show the TF-IDF scores , compare with/without stopwords\n",
    "df = pd.DataFrame(first_vector.T.todense(), index=count_vect.get_feature_names(), columns=[\"tfidf\"])\n",
    "df2 = pd.DataFrame(first_vector2.T.todense(), index=count_vect2.get_feature_names(), columns=[\"tfidf_stopwords\"])\n"
   ]
  },
  {
   "cell_type": "code",
   "execution_count": 36,
   "metadata": {},
   "outputs": [
    {
     "data": {
      "text/html": [
       "<div>\n",
       "<style scoped>\n",
       "    .dataframe tbody tr th:only-of-type {\n",
       "        vertical-align: middle;\n",
       "    }\n",
       "\n",
       "    .dataframe tbody tr th {\n",
       "        vertical-align: top;\n",
       "    }\n",
       "\n",
       "    .dataframe thead th {\n",
       "        text-align: right;\n",
       "    }\n",
       "</style>\n",
       "<table border=\"1\" class=\"dataframe\">\n",
       "  <thead>\n",
       "    <tr style=\"text-align: right;\">\n",
       "      <th></th>\n",
       "      <th>tfidf</th>\n",
       "    </tr>\n",
       "  </thead>\n",
       "  <tbody>\n",
       "    <tr>\n",
       "      <td>the</td>\n",
       "      <td>0.252033</td>\n",
       "    </tr>\n",
       "    <tr>\n",
       "      <td>he</td>\n",
       "      <td>0.192326</td>\n",
       "    </tr>\n",
       "    <tr>\n",
       "      <td>accent</td>\n",
       "      <td>0.172488</td>\n",
       "    </tr>\n",
       "    <tr>\n",
       "      <td>of</td>\n",
       "      <td>0.167375</td>\n",
       "    </tr>\n",
       "    <tr>\n",
       "      <td>three</td>\n",
       "      <td>0.164270</td>\n",
       "    </tr>\n",
       "    <tr>\n",
       "      <td>...</td>\n",
       "      <td>...</td>\n",
       "    </tr>\n",
       "    <tr>\n",
       "      <td>flaw</td>\n",
       "      <td>0.000000</td>\n",
       "    </tr>\n",
       "    <tr>\n",
       "      <td>flavourless</td>\n",
       "      <td>0.000000</td>\n",
       "    </tr>\n",
       "    <tr>\n",
       "      <td>flavouring</td>\n",
       "      <td>0.000000</td>\n",
       "    </tr>\n",
       "    <tr>\n",
       "      <td>flavoured</td>\n",
       "      <td>0.000000</td>\n",
       "    </tr>\n",
       "    <tr>\n",
       "      <td>üvegtigris</td>\n",
       "      <td>0.000000</td>\n",
       "    </tr>\n",
       "  </tbody>\n",
       "</table>\n",
       "<p>74849 rows × 1 columns</p>\n",
       "</div>"
      ],
      "text/plain": [
       "                tfidf\n",
       "the          0.252033\n",
       "he           0.192326\n",
       "accent       0.172488\n",
       "of           0.167375\n",
       "three        0.164270\n",
       "...               ...\n",
       "flaw         0.000000\n",
       "flavourless  0.000000\n",
       "flavouring   0.000000\n",
       "flavoured    0.000000\n",
       "üvegtigris   0.000000\n",
       "\n",
       "[74849 rows x 1 columns]"
      ]
     },
     "execution_count": 36,
     "metadata": {},
     "output_type": "execute_result"
    }
   ],
   "source": [
    "df.sort_values(by=[\"tfidf\"],ascending=False)"
   ]
  },
  {
   "cell_type": "code",
   "execution_count": 37,
   "metadata": {},
   "outputs": [
    {
     "data": {
      "text/html": [
       "<div>\n",
       "<style scoped>\n",
       "    .dataframe tbody tr th:only-of-type {\n",
       "        vertical-align: middle;\n",
       "    }\n",
       "\n",
       "    .dataframe tbody tr th {\n",
       "        vertical-align: top;\n",
       "    }\n",
       "\n",
       "    .dataframe thead th {\n",
       "        text-align: right;\n",
       "    }\n",
       "</style>\n",
       "<table border=\"1\" class=\"dataframe\">\n",
       "  <thead>\n",
       "    <tr style=\"text-align: right;\">\n",
       "      <th></th>\n",
       "      <th>tfidf_stopwords</th>\n",
       "    </tr>\n",
       "  </thead>\n",
       "  <tbody>\n",
       "    <tr>\n",
       "      <td>accent</td>\n",
       "      <td>0.214215</td>\n",
       "    </tr>\n",
       "    <tr>\n",
       "      <td>spite</td>\n",
       "      <td>0.169063</td>\n",
       "    </tr>\n",
       "    <tr>\n",
       "      <td>actresses</td>\n",
       "      <td>0.149836</td>\n",
       "    </tr>\n",
       "    <tr>\n",
       "      <td>decrescendos</td>\n",
       "      <td>0.147218</td>\n",
       "    </tr>\n",
       "    <tr>\n",
       "      <td>bleibtreau</td>\n",
       "      <td>0.147218</td>\n",
       "    </tr>\n",
       "    <tr>\n",
       "      <td>...</td>\n",
       "      <td>...</td>\n",
       "    </tr>\n",
       "    <tr>\n",
       "      <td>flavin</td>\n",
       "      <td>0.000000</td>\n",
       "    </tr>\n",
       "    <tr>\n",
       "      <td>flavia</td>\n",
       "      <td>0.000000</td>\n",
       "    </tr>\n",
       "    <tr>\n",
       "      <td>flava</td>\n",
       "      <td>0.000000</td>\n",
       "    </tr>\n",
       "    <tr>\n",
       "      <td>flav</td>\n",
       "      <td>0.000000</td>\n",
       "    </tr>\n",
       "    <tr>\n",
       "      <td>üvegtigris</td>\n",
       "      <td>0.000000</td>\n",
       "    </tr>\n",
       "  </tbody>\n",
       "</table>\n",
       "<p>74538 rows × 1 columns</p>\n",
       "</div>"
      ],
      "text/plain": [
       "              tfidf_stopwords\n",
       "accent               0.214215\n",
       "spite                0.169063\n",
       "actresses            0.149836\n",
       "decrescendos         0.147218\n",
       "bleibtreau           0.147218\n",
       "...                       ...\n",
       "flavin               0.000000\n",
       "flavia               0.000000\n",
       "flava                0.000000\n",
       "flav                 0.000000\n",
       "üvegtigris           0.000000\n",
       "\n",
       "[74538 rows x 1 columns]"
      ]
     },
     "execution_count": 37,
     "metadata": {},
     "output_type": "execute_result"
    }
   ],
   "source": [
    "df2.sort_values(by=[\"tfidf_stopwords\"],ascending=False)"
   ]
  },
  {
   "cell_type": "code",
   "execution_count": null,
   "metadata": {},
   "outputs": [],
   "source": []
  }
 ],
 "metadata": {
  "kernelspec": {
   "display_name": "Python 3",
   "language": "python",
   "name": "python3"
  },
  "language_info": {
   "codemirror_mode": {
    "name": "ipython",
    "version": 3
   },
   "file_extension": ".py",
   "mimetype": "text/x-python",
   "name": "python",
   "nbconvert_exporter": "python",
   "pygments_lexer": "ipython3",
   "version": "3.7.4"
  }
 },
 "nbformat": 4,
 "nbformat_minor": 2
}

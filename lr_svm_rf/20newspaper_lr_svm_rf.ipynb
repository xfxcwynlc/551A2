{
  "nbformat": 4,
  "nbformat_minor": 0,
  "metadata": {
    "kernelspec": {
      "display_name": "Python 3",
      "language": "python",
      "name": "python3"
    },
    "language_info": {
      "codemirror_mode": {
        "name": "ipython",
        "version": 3
      },
      "file_extension": ".py",
      "mimetype": "text/x-python",
      "name": "python",
      "nbconvert_exporter": "python",
      "pygments_lexer": "ipython3",
      "version": "3.7.4"
    },
    "colab": {
      "name": "20newspaper.ipynb",
      "provenance": [],
      "collapsed_sections": []
    }
  },
  "cells": [
    {
      "cell_type": "code",
      "metadata": {
        "id": "YbINtD25-l8n",
        "colab_type": "code",
        "colab": {}
      },
      "source": [
        "#import 20newsgroups datasets from sklearn\n",
        "from sklearn.datasets import fetch_20newsgroups\n",
        "twenty_train = fetch_20newsgroups(subset='train',remove=(['headers','footers', 'quotes']))"
      ],
      "execution_count": 0,
      "outputs": []
    },
    {
      "cell_type": "code",
      "metadata": {
        "id": "Uvvb-DSM-l8t",
        "colab_type": "code",
        "outputId": "d805ce90-16c2-473a-c6ee-c2404a12f684",
        "colab": {
          "base_uri": "https://localhost:8080/",
          "height": 372
        }
      },
      "source": [
        "#list of categories(labels)\n",
        "twenty_train.target_names"
      ],
      "execution_count": 3,
      "outputs": [
        {
          "output_type": "execute_result",
          "data": {
            "text/plain": [
              "['alt.atheism',\n",
              " 'comp.graphics',\n",
              " 'comp.os.ms-windows.misc',\n",
              " 'comp.sys.ibm.pc.hardware',\n",
              " 'comp.sys.mac.hardware',\n",
              " 'comp.windows.x',\n",
              " 'misc.forsale',\n",
              " 'rec.autos',\n",
              " 'rec.motorcycles',\n",
              " 'rec.sport.baseball',\n",
              " 'rec.sport.hockey',\n",
              " 'sci.crypt',\n",
              " 'sci.electronics',\n",
              " 'sci.med',\n",
              " 'sci.space',\n",
              " 'soc.religion.christian',\n",
              " 'talk.politics.guns',\n",
              " 'talk.politics.mideast',\n",
              " 'talk.politics.misc',\n",
              " 'talk.religion.misc']"
            ]
          },
          "metadata": {
            "tags": []
          },
          "execution_count": 3
        }
      ]
    },
    {
      "cell_type": "code",
      "metadata": {
        "id": "xPEhCp2s-l8x",
        "colab_type": "code",
        "outputId": "091c8ceb-7e85-4de9-9bcb-2aff19bd8838",
        "colab": {
          "base_uri": "https://localhost:8080/",
          "height": 52
        }
      },
      "source": [
        "from sklearn.feature_extraction.text import CountVectorizer\n",
        "\n",
        "#counts the occurence of each word. \n",
        "count_vect = CountVectorizer()\n",
        "\n",
        "#second one exclude stopwords, like 'the','of'..\n",
        "count_vect2= CountVectorizer(stop_words='english') \n",
        "\n",
        "X_train_counts = count_vect.fit_transform(twenty_train.data)\n",
        "X_train_counts2 = count_vect2.fit_transform(twenty_train.data)\n",
        "\n",
        "print(X_train_counts.shape)\n",
        "print(X_train_counts2.shape)\n",
        "\n",
        "# count_vect.vocabulary_.get(u'algorithm')"
      ],
      "execution_count": 4,
      "outputs": [
        {
          "output_type": "stream",
          "text": [
            "(11314, 101631)\n",
            "(11314, 101322)\n"
          ],
          "name": "stdout"
        }
      ]
    },
    {
      "cell_type": "code",
      "metadata": {
        "id": "OKBmDxM_-l80",
        "colab_type": "code",
        "outputId": "77a59342-7adf-4a86-bbc0-be3f242e9898",
        "colab": {
          "base_uri": "https://localhost:8080/",
          "height": 52
        }
      },
      "source": [
        "from sklearn.feature_extraction.text import TfidfTransformer\n",
        "#transform from occurrences to tf-idf \n",
        "#tf-idf: 1. Decide the number of occurrences of each word in a document by total number of words in document. (Term Frequences tf)\n",
        "#        2. It does another refinement. Downscaling weights for words that occurring in many documents.\n",
        "tfidf_transformer = TfidfTransformer()\n",
        "tfidf_transformer2 = TfidfTransformer()\n",
        "\n",
        "#use X_train_tfidf to train the MODEL\n",
        "X_train_tfidf = tfidf_transformer.fit_transform(X_train_counts)\n",
        "X_train_tfidf2 = tfidf_transformer2.fit_transform(X_train_counts2)\n",
        "\n",
        "X_test = fetch_20newsgroups(subset='test', shuffle=True, random_state=42)\n",
        "docs_test = X_test.data\n",
        "#use docs_test to fit.\n",
        "print(X_train_tfidf.shape)\n",
        "print(X_train_tfidf2.shape)"
      ],
      "execution_count": 5,
      "outputs": [
        {
          "output_type": "stream",
          "text": [
            "(11314, 101631)\n",
            "(11314, 101322)\n"
          ],
          "name": "stdout"
        }
      ]
    },
    {
      "cell_type": "code",
      "metadata": {
        "id": "0sESLkoq-l82",
        "colab_type": "code",
        "colab": {}
      },
      "source": [
        "import pandas as pd\n",
        "\n",
        "# get the first document\n",
        "first_vector=X_train_tfidf[13]\n",
        "first_vector2=X_train_tfidf2[13]\n",
        " \n",
        "# show the TF-IDF scores , compare with/without stopwords\n",
        "df = pd.DataFrame(first_vector.T.todense(), index=count_vect.get_feature_names(), columns=[\"tfidf\"])\n",
        "df2 = pd.DataFrame(first_vector2.T.todense(), index=count_vect2.get_feature_names(), columns=[\"tfidf_stopwords\"])\n",
        "\n"
      ],
      "execution_count": 0,
      "outputs": []
    },
    {
      "cell_type": "code",
      "metadata": {
        "id": "WiPJkjsZ-l85",
        "colab_type": "code",
        "outputId": "e51711e8-d826-47a4-aa42-0496c37ec35f",
        "colab": {
          "base_uri": "https://localhost:8080/",
          "height": 399
        }
      },
      "source": [
        "df.sort_values(by=[\"tfidf\"],ascending=False)"
      ],
      "execution_count": 7,
      "outputs": [
        {
          "output_type": "execute_result",
          "data": {
            "text/html": [
              "<div>\n",
              "<style scoped>\n",
              "    .dataframe tbody tr th:only-of-type {\n",
              "        vertical-align: middle;\n",
              "    }\n",
              "\n",
              "    .dataframe tbody tr th {\n",
              "        vertical-align: top;\n",
              "    }\n",
              "\n",
              "    .dataframe thead th {\n",
              "        text-align: right;\n",
              "    }\n",
              "</style>\n",
              "<table border=\"1\" class=\"dataframe\">\n",
              "  <thead>\n",
              "    <tr style=\"text-align: right;\">\n",
              "      <th></th>\n",
              "      <th>tfidf</th>\n",
              "    </tr>\n",
              "  </thead>\n",
              "  <tbody>\n",
              "    <tr>\n",
              "      <th>ssf</th>\n",
              "      <td>0.356347</td>\n",
              "    </tr>\n",
              "    <tr>\n",
              "      <th>flights</th>\n",
              "      <td>0.298625</td>\n",
              "    </tr>\n",
              "    <tr>\n",
              "      <th>option</th>\n",
              "      <td>0.242772</td>\n",
              "    </tr>\n",
              "    <tr>\n",
              "      <th>capability</th>\n",
              "      <td>0.242602</td>\n",
              "    </tr>\n",
              "    <tr>\n",
              "      <th>the</th>\n",
              "      <td>0.216754</td>\n",
              "    </tr>\n",
              "    <tr>\n",
              "      <th>...</th>\n",
              "      <td>...</td>\n",
              "    </tr>\n",
              "    <tr>\n",
              "      <th>discern</th>\n",
              "      <td>0.000000</td>\n",
              "    </tr>\n",
              "    <tr>\n",
              "      <th>discarded</th>\n",
              "      <td>0.000000</td>\n",
              "    </tr>\n",
              "    <tr>\n",
              "      <th>discard</th>\n",
              "      <td>0.000000</td>\n",
              "    </tr>\n",
              "    <tr>\n",
              "      <th>discarcina</th>\n",
              "      <td>0.000000</td>\n",
              "    </tr>\n",
              "    <tr>\n",
              "      <th>ýé</th>\n",
              "      <td>0.000000</td>\n",
              "    </tr>\n",
              "  </tbody>\n",
              "</table>\n",
              "<p>101631 rows × 1 columns</p>\n",
              "</div>"
            ],
            "text/plain": [
              "               tfidf\n",
              "ssf         0.356347\n",
              "flights     0.298625\n",
              "option      0.242772\n",
              "capability  0.242602\n",
              "the         0.216754\n",
              "...              ...\n",
              "discern     0.000000\n",
              "discarded   0.000000\n",
              "discard     0.000000\n",
              "discarcina  0.000000\n",
              "ýé          0.000000\n",
              "\n",
              "[101631 rows x 1 columns]"
            ]
          },
          "metadata": {
            "tags": []
          },
          "execution_count": 7
        }
      ]
    },
    {
      "cell_type": "code",
      "metadata": {
        "id": "6ITRIvQu-l88",
        "colab_type": "code",
        "outputId": "c7411c27-b482-4643-fb5e-9b0cc5a25784",
        "colab": {
          "base_uri": "https://localhost:8080/",
          "height": 399
        }
      },
      "source": [
        "df2.sort_values(by=[\"tfidf_stopwords\"],ascending=False)"
      ],
      "execution_count": 8,
      "outputs": [
        {
          "output_type": "execute_result",
          "data": {
            "text/html": [
              "<div>\n",
              "<style scoped>\n",
              "    .dataframe tbody tr th:only-of-type {\n",
              "        vertical-align: middle;\n",
              "    }\n",
              "\n",
              "    .dataframe tbody tr th {\n",
              "        vertical-align: top;\n",
              "    }\n",
              "\n",
              "    .dataframe thead th {\n",
              "        text-align: right;\n",
              "    }\n",
              "</style>\n",
              "<table border=\"1\" class=\"dataframe\">\n",
              "  <thead>\n",
              "    <tr style=\"text-align: right;\">\n",
              "      <th></th>\n",
              "      <th>tfidf_stopwords</th>\n",
              "    </tr>\n",
              "  </thead>\n",
              "  <tbody>\n",
              "    <tr>\n",
              "      <th>ssf</th>\n",
              "      <td>0.383239</td>\n",
              "    </tr>\n",
              "    <tr>\n",
              "      <th>flights</th>\n",
              "      <td>0.321161</td>\n",
              "    </tr>\n",
              "    <tr>\n",
              "      <th>option</th>\n",
              "      <td>0.261093</td>\n",
              "    </tr>\n",
              "    <tr>\n",
              "      <th>capability</th>\n",
              "      <td>0.260910</td>\n",
              "    </tr>\n",
              "    <tr>\n",
              "      <th>module</th>\n",
              "      <td>0.224627</td>\n",
              "    </tr>\n",
              "    <tr>\n",
              "      <th>...</th>\n",
              "      <td>...</td>\n",
              "    </tr>\n",
              "    <tr>\n",
              "      <th>disappoint</th>\n",
              "      <td>0.000000</td>\n",
              "    </tr>\n",
              "    <tr>\n",
              "      <th>disappering</th>\n",
              "      <td>0.000000</td>\n",
              "    </tr>\n",
              "    <tr>\n",
              "      <th>disappears</th>\n",
              "      <td>0.000000</td>\n",
              "    </tr>\n",
              "    <tr>\n",
              "      <th>disappearing</th>\n",
              "      <td>0.000000</td>\n",
              "    </tr>\n",
              "    <tr>\n",
              "      <th>ýé</th>\n",
              "      <td>0.000000</td>\n",
              "    </tr>\n",
              "  </tbody>\n",
              "</table>\n",
              "<p>101322 rows × 1 columns</p>\n",
              "</div>"
            ],
            "text/plain": [
              "              tfidf_stopwords\n",
              "ssf                  0.383239\n",
              "flights              0.321161\n",
              "option               0.261093\n",
              "capability           0.260910\n",
              "module               0.224627\n",
              "...                       ...\n",
              "disappoint           0.000000\n",
              "disappering          0.000000\n",
              "disappears           0.000000\n",
              "disappearing         0.000000\n",
              "ýé                   0.000000\n",
              "\n",
              "[101322 rows x 1 columns]"
            ]
          },
          "metadata": {
            "tags": []
          },
          "execution_count": 8
        }
      ]
    },
    {
      "cell_type": "markdown",
      "metadata": {
        "id": "I9bzNbxc-8kB",
        "colab_type": "text"
      },
      "source": [
        "# Models"
      ]
    },
    {
      "cell_type": "markdown",
      "metadata": {
        "id": "fHggwwqW_FLy",
        "colab_type": "text"
      },
      "source": [
        "## Logistic Regression"
      ]
    },
    {
      "cell_type": "code",
      "metadata": {
        "id": "9Vm17pC-_HvM",
        "colab_type": "code",
        "colab": {}
      },
      "source": [
        "from sklearn.linear_model import LogisticRegression\n",
        "# from sklearn.pipeline import Pipeline\n",
        "# text_clf_lr = Pipeline([('vect', CountVectorizer()), ('tfidf', TfidfTransformer()), ('clf_lr', LogisticRegression(multi_class = 'multinomial')),])\n",
        "# text_clf_lr.fit(twenty_train.data, twenty_train.target)\n",
        "clf_lr = LogisticRegression().fit(X_train_tfidf2, twenty_train.target)"
      ],
      "execution_count": 0,
      "outputs": []
    },
    {
      "cell_type": "markdown",
      "metadata": {
        "id": "15k_tWnnAbil",
        "colab_type": "text"
      },
      "source": [
        "## SVM\n"
      ]
    },
    {
      "cell_type": "code",
      "metadata": {
        "id": "8ElSwwTD_Hy3",
        "colab_type": "code",
        "colab": {}
      },
      "source": [
        "from sklearn.linear_model import SGDClassifier\n",
        "# text_clf_svm = Pipeline([('vect', CountVectorizer()), ('tfidf', TfidfTransformer()), ('clf_svm', SGDClassifier()),])\n",
        "# text_clf_svm.fit(twenty_train.data, twenty_train.target)\n",
        "clf_svm = SGDClassifier().fit(X_train_tfidf2, twenty_train.target)"
      ],
      "execution_count": 0,
      "outputs": []
    },
    {
      "cell_type": "markdown",
      "metadata": {
        "id": "kCY-lsNNBI8c",
        "colab_type": "text"
      },
      "source": [
        "## Random Forest"
      ]
    },
    {
      "cell_type": "code",
      "metadata": {
        "id": "q7tSuPcD_H11",
        "colab_type": "code",
        "colab": {}
      },
      "source": [
        "from sklearn.ensemble import RandomForestClassifier\n",
        "# text_clf_rf = Pipeline([('vect', CountVectorizer()), ('tfidf', TfidfTransformer()), ('clf_rf', RandomForestClassifier()),])\n",
        "# text_clf_rf.fit(twenty_train.data, twenty_train.target)\n",
        "clf_rf = RandomForestClassifier().fit(X_train_tfidf2, twenty_train.target)"
      ],
      "execution_count": 0,
      "outputs": []
    },
    {
      "cell_type": "code",
      "metadata": {
        "id": "liMfNqLa-85o",
        "colab_type": "code",
        "colab": {}
      },
      "source": [
        "  "
      ],
      "execution_count": 0,
      "outputs": []
    },
    {
      "cell_type": "markdown",
      "metadata": {
        "id": "5crS4vlO_ipn",
        "colab_type": "text"
      },
      "source": [
        "## Evaluate"
      ]
    },
    {
      "cell_type": "code",
      "metadata": {
        "id": "YwjxtWSb_uN5",
        "colab_type": "code",
        "outputId": "cad767fd-d626-4d3d-8e40-802894d32d8b",
        "colab": {
          "base_uri": "https://localhost:8080/",
          "height": 1000
        }
      },
      "source": [
        "import numpy as np\n",
        "twenty_test = fetch_20newsgroups(subset='test', remove=(['headers','footers', 'quotes']))\n",
        "docs_test = twenty_test.data\n",
        "\n",
        "X_test_counts = count_vect2.transform(docs_test)\n",
        "X_test_tfidf = tfidf_transformer2.transform(X_test_counts)\n",
        "\n",
        "print(\"Logistic Regresssion:\")\n",
        "predicted_lr = clf_lr.predict(X_test_tfidf)\n",
        "print(np.mean(predicted_lr == twenty_test.target))\n",
        "from sklearn import metrics\n",
        "print(metrics.classification_report(twenty_test.target, predicted_lr, target_names=twenty_test.target_names))\n",
        "\n",
        "print(\"SVM:\")\n",
        "predicted_svm = clf_svm.predict(X_test_tfidf)\n",
        "print(np.mean(predicted_svm == twenty_test.target))\n",
        "from sklearn import metrics\n",
        "print(metrics.classification_report(twenty_test.target, predicted_svm, target_names=twenty_test.target_names))\n",
        "\n",
        "print(\"Random Forest:\")\n",
        "predicted_rf = clf_rf.predict(X_test_tfidf)\n",
        "print(np.mean(predicted_rf == twenty_test.target))\n",
        "from sklearn import metrics\n",
        "print(metrics.classification_report(twenty_test.target, predicted_rf, target_names=twenty_test.target_names))"
      ],
      "execution_count": 19,
      "outputs": [
        {
          "output_type": "stream",
          "text": [
            "Logistic Regresssion:\n",
            "0.6909187466808284\n",
            "                          precision    recall  f1-score   support\n",
            "\n",
            "             alt.atheism       0.49      0.45      0.47       319\n",
            "           comp.graphics       0.63      0.71      0.67       389\n",
            " comp.os.ms-windows.misc       0.66      0.63      0.64       394\n",
            "comp.sys.ibm.pc.hardware       0.68      0.65      0.66       392\n",
            "   comp.sys.mac.hardware       0.75      0.69      0.72       385\n",
            "          comp.windows.x       0.83      0.72      0.77       395\n",
            "            misc.forsale       0.76      0.79      0.77       390\n",
            "               rec.autos       0.75      0.71      0.73       396\n",
            "         rec.motorcycles       0.48      0.81      0.61       398\n",
            "      rec.sport.baseball       0.81      0.82      0.82       397\n",
            "        rec.sport.hockey       0.90      0.86      0.88       399\n",
            "               sci.crypt       0.89      0.67      0.76       396\n",
            "         sci.electronics       0.56      0.61      0.59       393\n",
            "                 sci.med       0.76      0.79      0.78       396\n",
            "               sci.space       0.70      0.75      0.73       394\n",
            "  soc.religion.christian       0.64      0.79      0.71       398\n",
            "      talk.politics.guns       0.59      0.67      0.63       364\n",
            "   talk.politics.mideast       0.85      0.75      0.79       376\n",
            "      talk.politics.misc       0.59      0.45      0.51       310\n",
            "      talk.religion.misc       0.59      0.22      0.31       251\n",
            "\n",
            "                accuracy                           0.69      7532\n",
            "               macro avg       0.70      0.68      0.68      7532\n",
            "            weighted avg       0.70      0.69      0.69      7532\n",
            "\n",
            "SVM:\n",
            "0.6950345193839618\n",
            "                          precision    recall  f1-score   support\n",
            "\n",
            "             alt.atheism       0.51      0.46      0.49       319\n",
            "           comp.graphics       0.67      0.74      0.70       389\n",
            " comp.os.ms-windows.misc       0.65      0.64      0.64       394\n",
            "comp.sys.ibm.pc.hardware       0.67      0.65      0.66       392\n",
            "   comp.sys.mac.hardware       0.75      0.71      0.73       385\n",
            "          comp.windows.x       0.82      0.71      0.76       395\n",
            "            misc.forsale       0.74      0.78      0.76       390\n",
            "               rec.autos       0.78      0.71      0.74       396\n",
            "         rec.motorcycles       0.81      0.74      0.77       398\n",
            "      rec.sport.baseball       0.83      0.81      0.82       397\n",
            "        rec.sport.hockey       0.56      0.91      0.69       399\n",
            "               sci.crypt       0.85      0.70      0.77       396\n",
            "         sci.electronics       0.62      0.56      0.59       393\n",
            "                 sci.med       0.77      0.79      0.78       396\n",
            "               sci.space       0.73      0.77      0.75       394\n",
            "  soc.religion.christian       0.63      0.82      0.71       398\n",
            "      talk.politics.guns       0.59      0.67      0.63       364\n",
            "   talk.politics.mideast       0.82      0.76      0.79       376\n",
            "      talk.politics.misc       0.57      0.46      0.51       310\n",
            "      talk.religion.misc       0.46      0.23      0.31       251\n",
            "\n",
            "                accuracy                           0.70      7532\n",
            "               macro avg       0.69      0.68      0.68      7532\n",
            "            weighted avg       0.70      0.70      0.69      7532\n",
            "\n",
            "Random Forest:\n",
            "0.6228093467870419\n",
            "                          precision    recall  f1-score   support\n",
            "\n",
            "             alt.atheism       0.45      0.39      0.42       319\n",
            "           comp.graphics       0.58      0.60      0.59       389\n",
            " comp.os.ms-windows.misc       0.54      0.65      0.59       394\n",
            "comp.sys.ibm.pc.hardware       0.61      0.56      0.59       392\n",
            "   comp.sys.mac.hardware       0.69      0.69      0.69       385\n",
            "          comp.windows.x       0.64      0.67      0.66       395\n",
            "            misc.forsale       0.67      0.75      0.71       390\n",
            "               rec.autos       0.41      0.69      0.52       396\n",
            "         rec.motorcycles       0.68      0.70      0.69       398\n",
            "      rec.sport.baseball       0.72      0.77      0.74       397\n",
            "        rec.sport.hockey       0.82      0.81      0.82       399\n",
            "               sci.crypt       0.76      0.66      0.71       396\n",
            "         sci.electronics       0.50      0.40      0.44       393\n",
            "                 sci.med       0.77      0.65      0.70       396\n",
            "               sci.space       0.67      0.66      0.66       394\n",
            "  soc.religion.christian       0.60      0.79      0.68       398\n",
            "      talk.politics.guns       0.54      0.57      0.56       364\n",
            "   talk.politics.mideast       0.85      0.70      0.77       376\n",
            "      talk.politics.misc       0.54      0.32      0.40       310\n",
            "      talk.religion.misc       0.32      0.12      0.17       251\n",
            "\n",
            "                accuracy                           0.62      7532\n",
            "               macro avg       0.62      0.61      0.60      7532\n",
            "            weighted avg       0.63      0.62      0.62      7532\n",
            "\n"
          ],
          "name": "stdout"
        }
      ]
    },
    {
      "cell_type": "code",
      "metadata": {
        "id": "Qdtb2ac0_uSE",
        "colab_type": "code",
        "colab": {}
      },
      "source": [
        ""
      ],
      "execution_count": 0,
      "outputs": []
    },
    {
      "cell_type": "code",
      "metadata": {
        "id": "3KkxMcCl-l8-",
        "colab_type": "code",
        "colab": {}
      },
      "source": [
        " #   Training a classifier example:\n",
        " #   from sklearn.naive_bayes import MultinomialNB\n",
        " #   clf = MultinomialNB().fit(X_train_tfidf, twenty_train.target)\n",
        "    \n"
      ],
      "execution_count": 0,
      "outputs": []
    },
    {
      "cell_type": "code",
      "metadata": {
        "id": "aJrv7sKs-l9B",
        "colab_type": "code",
        "colab": {}
      },
      "source": [
        "#  Predict an outcome on new document:\n",
        "#  Doc_examples = ['God is love', 'GPU is fast']\n",
        "\n",
        "#  convert documents into tf-idf.  \n",
        "#  X_new_counts = count_vect.transform(Doc_examples) \n",
        "#  X_new_tfidf = tfidf_transformer.transform(X_new_counts)\n",
        "\n",
        "\n",
        "#  predicted = clf.predict(X_new_tfidf)   (name_of_your_model_object)\n",
        "#  it stores the prediction of doc_examples.\n",
        "\n",
        "\n"
      ],
      "execution_count": 0,
      "outputs": []
    },
    {
      "cell_type": "code",
      "metadata": {
        "id": "xeRvkq50-l9D",
        "colab_type": "code",
        "colab": {}
      },
      "source": [
        ""
      ],
      "execution_count": 0,
      "outputs": []
    }
  ]
}
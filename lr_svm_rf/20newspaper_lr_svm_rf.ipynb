{
  "nbformat": 4,
  "nbformat_minor": 0,
  "metadata": {
    "kernelspec": {
      "display_name": "Python 3",
      "language": "python",
      "name": "python3"
    },
    "language_info": {
      "codemirror_mode": {
        "name": "ipython",
        "version": 3
      },
      "file_extension": ".py",
      "mimetype": "text/x-python",
      "name": "python",
      "nbconvert_exporter": "python",
      "pygments_lexer": "ipython3",
      "version": "3.7.4"
    },
    "colab": {
      "name": "20newspaper.ipynb",
      "provenance": [],
      "collapsed_sections": []
    }
  },
  "cells": [
    {
      "cell_type": "code",
      "metadata": {
        "id": "YbINtD25-l8n",
        "colab_type": "code",
        "colab": {}
      },
      "source": [
        "#import 20newsgroups datasets from sklearn\n",
        "from sklearn.datasets import fetch_20newsgroups\n",
        "twenty_train = fetch_20newsgroups(subset='train',remove=(['headers','footers', 'quotes']))"
      ],
      "execution_count": 0,
      "outputs": []
    },
    {
      "cell_type": "code",
      "metadata": {
        "id": "Uvvb-DSM-l8t",
        "colab_type": "code",
        "outputId": "1321a7c3-106c-4bd5-a3c0-061488754552",
        "colab": {
          "base_uri": "https://localhost:8080/",
          "height": 372
        }
      },
      "source": [
        "#list of categories(labels)\n",
        "twenty_train.target_names"
      ],
      "execution_count": 2,
      "outputs": [
        {
          "output_type": "execute_result",
          "data": {
            "text/plain": [
              "['alt.atheism',\n",
              " 'comp.graphics',\n",
              " 'comp.os.ms-windows.misc',\n",
              " 'comp.sys.ibm.pc.hardware',\n",
              " 'comp.sys.mac.hardware',\n",
              " 'comp.windows.x',\n",
              " 'misc.forsale',\n",
              " 'rec.autos',\n",
              " 'rec.motorcycles',\n",
              " 'rec.sport.baseball',\n",
              " 'rec.sport.hockey',\n",
              " 'sci.crypt',\n",
              " 'sci.electronics',\n",
              " 'sci.med',\n",
              " 'sci.space',\n",
              " 'soc.religion.christian',\n",
              " 'talk.politics.guns',\n",
              " 'talk.politics.mideast',\n",
              " 'talk.politics.misc',\n",
              " 'talk.religion.misc']"
            ]
          },
          "metadata": {
            "tags": []
          },
          "execution_count": 2
        }
      ]
    },
    {
      "cell_type": "code",
      "metadata": {
        "id": "xPEhCp2s-l8x",
        "colab_type": "code",
        "outputId": "6e6c3b6a-942e-4f3c-c0f5-6cfce9fd5b27",
        "colab": {
          "base_uri": "https://localhost:8080/",
          "height": 52
        }
      },
      "source": [
        "from sklearn.feature_extraction.text import CountVectorizer\n",
        "\n",
        "#counts the occurence of each word. \n",
        "count_vect = CountVectorizer()\n",
        "\n",
        "#second one exclude stopwords, like 'the','of'..\n",
        "count_vect2= CountVectorizer(stop_words='english') \n",
        "\n",
        "X_train_counts = count_vect.fit_transform(twenty_train.data)\n",
        "X_train_counts2 = count_vect2.fit_transform(twenty_train.data)\n",
        "\n",
        "print(X_train_counts.shape)\n",
        "print(X_train_counts2.shape)\n",
        "\n",
        "# count_vect.vocabulary_.get(u'algorithm')"
      ],
      "execution_count": 3,
      "outputs": [
        {
          "output_type": "stream",
          "text": [
            "(11314, 101631)\n",
            "(11314, 101322)\n"
          ],
          "name": "stdout"
        }
      ]
    },
    {
      "cell_type": "code",
      "metadata": {
        "id": "OKBmDxM_-l80",
        "colab_type": "code",
        "outputId": "c2c415de-f9e9-4e32-dede-eb7be1cca1cb",
        "colab": {
          "base_uri": "https://localhost:8080/",
          "height": 52
        }
      },
      "source": [
        "from sklearn.feature_extraction.text import TfidfTransformer\n",
        "#transform from occurrences to tf-idf \n",
        "#tf-idf: 1. Decide the number of occurrences of each word in a document by total number of words in document. (Term Frequences tf)\n",
        "#        2. It does another refinement. Downscaling weights for words that occurring in many documents.\n",
        "tfidf_transformer = TfidfTransformer()\n",
        "tfidf_transformer2 = TfidfTransformer()\n",
        "\n",
        "#use X_train_tfidf to train the MODEL\n",
        "X_train_tfidf = tfidf_transformer.fit_transform(X_train_counts)\n",
        "X_train_tfidf2 = tfidf_transformer2.fit_transform(X_train_counts2)\n",
        "\n",
        "X_test = fetch_20newsgroups(subset='test', shuffle=True, random_state=42)\n",
        "docs_test = X_test.data\n",
        "#use docs_test to fit.\n",
        "print(X_train_tfidf.shape)\n",
        "print(X_train_tfidf2.shape)"
      ],
      "execution_count": 4,
      "outputs": [
        {
          "output_type": "stream",
          "text": [
            "(11314, 101631)\n",
            "(11314, 101322)\n"
          ],
          "name": "stdout"
        }
      ]
    },
    {
      "cell_type": "code",
      "metadata": {
        "id": "0sESLkoq-l82",
        "colab_type": "code",
        "colab": {}
      },
      "source": [
        "import pandas as pd\n",
        "\n",
        "# get the first document\n",
        "first_vector=X_train_tfidf[13]\n",
        "first_vector2=X_train_tfidf2[13]\n",
        " \n",
        "# show the TF-IDF scores , compare with/without stopwords\n",
        "df = pd.DataFrame(first_vector.T.todense(), index=count_vect.get_feature_names(), columns=[\"tfidf\"])\n",
        "df2 = pd.DataFrame(first_vector2.T.todense(), index=count_vect2.get_feature_names(), columns=[\"tfidf_stopwords\"])\n",
        "\n"
      ],
      "execution_count": 0,
      "outputs": []
    },
    {
      "cell_type": "code",
      "metadata": {
        "id": "WiPJkjsZ-l85",
        "colab_type": "code",
        "outputId": "3574b265-8fd5-4f5d-a5d1-9d5abeda6ef8",
        "colab": {
          "base_uri": "https://localhost:8080/",
          "height": 399
        }
      },
      "source": [
        "df.sort_values(by=[\"tfidf\"],ascending=False)"
      ],
      "execution_count": 6,
      "outputs": [
        {
          "output_type": "execute_result",
          "data": {
            "text/html": [
              "<div>\n",
              "<style scoped>\n",
              "    .dataframe tbody tr th:only-of-type {\n",
              "        vertical-align: middle;\n",
              "    }\n",
              "\n",
              "    .dataframe tbody tr th {\n",
              "        vertical-align: top;\n",
              "    }\n",
              "\n",
              "    .dataframe thead th {\n",
              "        text-align: right;\n",
              "    }\n",
              "</style>\n",
              "<table border=\"1\" class=\"dataframe\">\n",
              "  <thead>\n",
              "    <tr style=\"text-align: right;\">\n",
              "      <th></th>\n",
              "      <th>tfidf</th>\n",
              "    </tr>\n",
              "  </thead>\n",
              "  <tbody>\n",
              "    <tr>\n",
              "      <th>ssf</th>\n",
              "      <td>0.356347</td>\n",
              "    </tr>\n",
              "    <tr>\n",
              "      <th>flights</th>\n",
              "      <td>0.298625</td>\n",
              "    </tr>\n",
              "    <tr>\n",
              "      <th>option</th>\n",
              "      <td>0.242772</td>\n",
              "    </tr>\n",
              "    <tr>\n",
              "      <th>capability</th>\n",
              "      <td>0.242602</td>\n",
              "    </tr>\n",
              "    <tr>\n",
              "      <th>the</th>\n",
              "      <td>0.216754</td>\n",
              "    </tr>\n",
              "    <tr>\n",
              "      <th>...</th>\n",
              "      <td>...</td>\n",
              "    </tr>\n",
              "    <tr>\n",
              "      <th>discern</th>\n",
              "      <td>0.000000</td>\n",
              "    </tr>\n",
              "    <tr>\n",
              "      <th>discarded</th>\n",
              "      <td>0.000000</td>\n",
              "    </tr>\n",
              "    <tr>\n",
              "      <th>discard</th>\n",
              "      <td>0.000000</td>\n",
              "    </tr>\n",
              "    <tr>\n",
              "      <th>discarcina</th>\n",
              "      <td>0.000000</td>\n",
              "    </tr>\n",
              "    <tr>\n",
              "      <th>ýé</th>\n",
              "      <td>0.000000</td>\n",
              "    </tr>\n",
              "  </tbody>\n",
              "</table>\n",
              "<p>101631 rows × 1 columns</p>\n",
              "</div>"
            ],
            "text/plain": [
              "               tfidf\n",
              "ssf         0.356347\n",
              "flights     0.298625\n",
              "option      0.242772\n",
              "capability  0.242602\n",
              "the         0.216754\n",
              "...              ...\n",
              "discern     0.000000\n",
              "discarded   0.000000\n",
              "discard     0.000000\n",
              "discarcina  0.000000\n",
              "ýé          0.000000\n",
              "\n",
              "[101631 rows x 1 columns]"
            ]
          },
          "metadata": {
            "tags": []
          },
          "execution_count": 6
        }
      ]
    },
    {
      "cell_type": "code",
      "metadata": {
        "id": "6ITRIvQu-l88",
        "colab_type": "code",
        "outputId": "c9881d6e-364e-4d93-9ca7-b2eccfb9e351",
        "colab": {
          "base_uri": "https://localhost:8080/",
          "height": 399
        }
      },
      "source": [
        "df2.sort_values(by=[\"tfidf_stopwords\"],ascending=False)"
      ],
      "execution_count": 7,
      "outputs": [
        {
          "output_type": "execute_result",
          "data": {
            "text/html": [
              "<div>\n",
              "<style scoped>\n",
              "    .dataframe tbody tr th:only-of-type {\n",
              "        vertical-align: middle;\n",
              "    }\n",
              "\n",
              "    .dataframe tbody tr th {\n",
              "        vertical-align: top;\n",
              "    }\n",
              "\n",
              "    .dataframe thead th {\n",
              "        text-align: right;\n",
              "    }\n",
              "</style>\n",
              "<table border=\"1\" class=\"dataframe\">\n",
              "  <thead>\n",
              "    <tr style=\"text-align: right;\">\n",
              "      <th></th>\n",
              "      <th>tfidf_stopwords</th>\n",
              "    </tr>\n",
              "  </thead>\n",
              "  <tbody>\n",
              "    <tr>\n",
              "      <th>ssf</th>\n",
              "      <td>0.383239</td>\n",
              "    </tr>\n",
              "    <tr>\n",
              "      <th>flights</th>\n",
              "      <td>0.321161</td>\n",
              "    </tr>\n",
              "    <tr>\n",
              "      <th>option</th>\n",
              "      <td>0.261093</td>\n",
              "    </tr>\n",
              "    <tr>\n",
              "      <th>capability</th>\n",
              "      <td>0.260910</td>\n",
              "    </tr>\n",
              "    <tr>\n",
              "      <th>module</th>\n",
              "      <td>0.224627</td>\n",
              "    </tr>\n",
              "    <tr>\n",
              "      <th>...</th>\n",
              "      <td>...</td>\n",
              "    </tr>\n",
              "    <tr>\n",
              "      <th>disappoint</th>\n",
              "      <td>0.000000</td>\n",
              "    </tr>\n",
              "    <tr>\n",
              "      <th>disappering</th>\n",
              "      <td>0.000000</td>\n",
              "    </tr>\n",
              "    <tr>\n",
              "      <th>disappears</th>\n",
              "      <td>0.000000</td>\n",
              "    </tr>\n",
              "    <tr>\n",
              "      <th>disappearing</th>\n",
              "      <td>0.000000</td>\n",
              "    </tr>\n",
              "    <tr>\n",
              "      <th>ýé</th>\n",
              "      <td>0.000000</td>\n",
              "    </tr>\n",
              "  </tbody>\n",
              "</table>\n",
              "<p>101322 rows × 1 columns</p>\n",
              "</div>"
            ],
            "text/plain": [
              "              tfidf_stopwords\n",
              "ssf                  0.383239\n",
              "flights              0.321161\n",
              "option               0.261093\n",
              "capability           0.260910\n",
              "module               0.224627\n",
              "...                       ...\n",
              "disappoint           0.000000\n",
              "disappering          0.000000\n",
              "disappears           0.000000\n",
              "disappearing         0.000000\n",
              "ýé                   0.000000\n",
              "\n",
              "[101322 rows x 1 columns]"
            ]
          },
          "metadata": {
            "tags": []
          },
          "execution_count": 7
        }
      ]
    },
    {
      "cell_type": "markdown",
      "metadata": {
        "id": "I9bzNbxc-8kB",
        "colab_type": "text"
      },
      "source": [
        "# Models"
      ]
    },
    {
      "cell_type": "markdown",
      "metadata": {
        "id": "fHggwwqW_FLy",
        "colab_type": "text"
      },
      "source": [
        "## Logistic Regression"
      ]
    },
    {
      "cell_type": "code",
      "metadata": {
        "id": "9Vm17pC-_HvM",
        "colab_type": "code",
        "outputId": "f73fc30f-9625-439f-e275-a29954413f2c",
        "colab": {
          "base_uri": "https://localhost:8080/",
          "height": 426
        }
      },
      "source": [
        "from sklearn.pipeline import Pipeline\n",
        "\n",
        "from sklearn.linear_model import LogisticRegression\n",
        "text_clf_lr = Pipeline([('vect', CountVectorizer(stop_words='english')), ('tfidf', TfidfTransformer()), ('clf_lr', LogisticRegression(multi_class = 'multinomial')),])\n",
        "text_clf_lr.fit(twenty_train.data, twenty_train.target)\n",
        "# clf_lr = LogisticRegression().fit(X_train_tfidf2, twenty_train.target)"
      ],
      "execution_count": 8,
      "outputs": [
        {
          "output_type": "execute_result",
          "data": {
            "text/plain": [
              "Pipeline(memory=None,\n",
              "         steps=[('vect',\n",
              "                 CountVectorizer(analyzer='word', binary=False,\n",
              "                                 decode_error='strict',\n",
              "                                 dtype=<class 'numpy.int64'>, encoding='utf-8',\n",
              "                                 input='content', lowercase=True, max_df=1.0,\n",
              "                                 max_features=None, min_df=1,\n",
              "                                 ngram_range=(1, 1), preprocessor=None,\n",
              "                                 stop_words='english', strip_accents=None,\n",
              "                                 token_pattern='(?u)\\\\b\\\\w\\\\w+\\\\b',\n",
              "                                 tokenizer=None, vocabular...\n",
              "                ('tfidf',\n",
              "                 TfidfTransformer(norm='l2', smooth_idf=True,\n",
              "                                  sublinear_tf=False, use_idf=True)),\n",
              "                ('clf_lr',\n",
              "                 LogisticRegression(C=1.0, class_weight=None, dual=False,\n",
              "                                    fit_intercept=True, intercept_scaling=1,\n",
              "                                    l1_ratio=None, max_iter=100,\n",
              "                                    multi_class='multinomial', n_jobs=None,\n",
              "                                    penalty='l2', random_state=None,\n",
              "                                    solver='lbfgs', tol=0.0001, verbose=0,\n",
              "                                    warm_start=False))],\n",
              "         verbose=False)"
            ]
          },
          "metadata": {
            "tags": []
          },
          "execution_count": 8
        }
      ]
    },
    {
      "cell_type": "markdown",
      "metadata": {
        "colab_type": "text",
        "id": "KN6umaKwbP4Q"
      },
      "source": [
        "### Hyperparameter Tuning"
      ]
    },
    {
      "cell_type": "code",
      "metadata": {
        "colab_type": "code",
        "id": "o72_gmcWbP4Z",
        "colab": {
          "base_uri": "https://localhost:8080/",
          "height": 286
        },
        "outputId": "f1ee4d60-745c-411c-988a-4a958af238f5"
      },
      "source": [
        "# Hyperparameter tuning using Randomized search\n",
        "import numpy as np\n",
        "import math\n",
        "from sklearn.model_selection import train_test_split\n",
        "from sklearn.model_selection import cross_val_score, RandomizedSearchCV\n",
        "X = twenty_train.data\n",
        "Y = twenty_train.target\n",
        "# Create parameter for CountVectorizer\n",
        "ngram_range = [(1, 1), (1, 2), (2, 2)]\n",
        "# Create parameter for TfidfTransformer\n",
        "use_idf = (True, False)\n",
        "\n",
        "# Create lists of parameter for Logistic Regression Classifier:\n",
        "penalty = ['l1', 'l2', 'elasticnet']\n",
        "C = [0.001, 0.01, 0.1, 1, 10, 100]\n",
        "class_weight = [{1:0.5, 0:0.5}, {1:0.4, 0:0.6}, {1:0.6, 0:0.4}, {1:0.7, 0:0.3}]\n",
        "class_weight.append(None)\n",
        "solver = ['sag', 'saga']\n",
        "\n",
        "\n",
        "n = len(X)\n",
        "idx1 = np.arange(0, n, dtype=int)\n",
        "idx1_train, idx1_test = train_test_split(idx1, test_size=0.2, shuffle = True, random_state = 123)\n",
        "custom_cv = [(idx1_train, idx1_test)]\n",
        "\n",
        "# Create a dictionary of all the parameter options. We can access parameters of steps of a pipeline by using '__’\n",
        "parameters = dict(vect__ngram_range=ngram_range,\n",
        "                  tfidf__use_idf = use_idf, clf_lr__penalty = penalty, clf_lr__C = C, clf_lr__class_weight = class_weight, clf_lr__solver = solver);\n",
        "# Call RandomizedSearchCV\n",
        "rs_clf_lr = RandomizedSearchCV(text_clf_lr, parameters, n_iter=20, cv=custom_cv, random_state=199, return_train_score=False, n_jobs=-1)\n",
        "rs_clf_lr.fit(X, Y)\n",
        "\n",
        "# View Best Parameters\n",
        "print('Best n-gram range:', rs_clf_lr.best_estimator_.get_params()['vect__ngram_range'])\n",
        "print('Best use_idf:', rs_clf_lr.best_estimator_.get_params()['tfidf__use_idf'])\n",
        "print('Best penalty:', rs_clf_lr.best_estimator_.get_params()['clf_lr__penalty'])\n",
        "print('Best C:', rs_clf_lr.best_estimator_.get_params()['clf_lr__C'])\n",
        "print('Best class_weight:', rs_clf_lr.best_estimator_.get_params()['clf_lr__class_weight'])\n",
        "print('Best solver:', rs_clf_lr.best_estimator_.get_params()['clf_lr__solver'])\n",
        "print(); print(rs_clf_lr.best_estimator_.get_params()['clf_lr'])"
      ],
      "execution_count": 9,
      "outputs": [
        {
          "output_type": "stream",
          "text": [
            "/usr/local/lib/python3.6/dist-packages/joblib/externals/loky/process_executor.py:706: UserWarning: A worker stopped while some jobs were given to the executor. This can be caused by a too short worker timeout or by a memory leak.\n",
            "  \"timeout or by a memory leak.\", UserWarning\n"
          ],
          "name": "stderr"
        },
        {
          "output_type": "stream",
          "text": [
            "Best n-gram range: (1, 1)\n",
            "Best use_idf: True\n",
            "Best penalty: l2\n",
            "Best C: 1\n",
            "Best class_weight: None\n",
            "Best solver: sag\n",
            "\n",
            "LogisticRegression(C=1, class_weight=None, dual=False, fit_intercept=True,\n",
            "                   intercept_scaling=1, l1_ratio=None, max_iter=100,\n",
            "                   multi_class='multinomial', n_jobs=None, penalty='l2',\n",
            "                   random_state=None, solver='sag', tol=0.0001, verbose=0,\n",
            "                   warm_start=False)\n"
          ],
          "name": "stdout"
        }
      ]
    },
    {
      "cell_type": "markdown",
      "metadata": {
        "id": "15k_tWnnAbil",
        "colab_type": "text"
      },
      "source": [
        "## SVM\n"
      ]
    },
    {
      "cell_type": "code",
      "metadata": {
        "id": "8ElSwwTD_Hy3",
        "colab_type": "code",
        "outputId": "6780d126-293c-4dbc-8715-3983780eca2b",
        "colab": {
          "base_uri": "https://localhost:8080/",
          "height": 372
        }
      },
      "source": [
        "from sklearn.linear_model import SGDClassifier\n",
        "text_clf_svm = Pipeline([('vect', CountVectorizer(stop_words='english')), ('tfidf', TfidfTransformer()), ('clf_svm', SGDClassifier()),])\n",
        "text_clf_svm.fit(twenty_train.data, twenty_train.target)\n",
        "# clf_svm = SGDClassifier().fit(X_train_tfidf2, twenty_train.target)"
      ],
      "execution_count": 15,
      "outputs": [
        {
          "output_type": "execute_result",
          "data": {
            "text/plain": [
              "Pipeline(memory=None,\n",
              "         steps=[('vect',\n",
              "                 CountVectorizer(analyzer='word', binary=False,\n",
              "                                 decode_error='strict',\n",
              "                                 dtype=<class 'numpy.int64'>, encoding='utf-8',\n",
              "                                 input='content', lowercase=True, max_df=1.0,\n",
              "                                 max_features=None, min_df=1,\n",
              "                                 ngram_range=(1, 1), preprocessor=None,\n",
              "                                 stop_words='english', strip_accents=None,\n",
              "                                 token_pattern='(?u)\\\\b\\\\w\\\\w+\\\\b',\n",
              "                                 tokenizer=None, vocabular...\n",
              "                 SGDClassifier(alpha=0.0001, average=False, class_weight=None,\n",
              "                               early_stopping=False, epsilon=0.1, eta0=0.0,\n",
              "                               fit_intercept=True, l1_ratio=0.15,\n",
              "                               learning_rate='optimal', loss='hinge',\n",
              "                               max_iter=1000, n_iter_no_change=5, n_jobs=None,\n",
              "                               penalty='l2', power_t=0.5, random_state=None,\n",
              "                               shuffle=True, tol=0.001, validation_fraction=0.1,\n",
              "                               verbose=0, warm_start=False))],\n",
              "         verbose=False)"
            ]
          },
          "metadata": {
            "tags": []
          },
          "execution_count": 15
        }
      ]
    },
    {
      "cell_type": "markdown",
      "metadata": {
        "colab_type": "text",
        "id": "55UgiG7xtGgF"
      },
      "source": [
        "### Hyperparameter Tuning"
      ]
    },
    {
      "cell_type": "code",
      "metadata": {
        "colab_type": "code",
        "outputId": "e5ba05d4-6c34-46d3-b4c6-68c78acde6ac",
        "id": "Pkj_HcKptGgH",
        "colab": {
          "base_uri": "https://localhost:8080/",
          "height": 304
        }
      },
      "source": [
        "# Create lists of parameter for SVM Classifier:\n",
        "alpha = [0.00001, 0.0001, 0.001, 0.01, 0.1]\n",
        "learning_rate = ['optimal', 'constant', 'adaptive']\n",
        "class_weight = [{1:0.5, 0:0.5}, {1:0.4, 0:0.6}, {1:0.6, 0:0.4}, {1:0.7, 0:0.3}]\n",
        "class_weight.append(None)\n",
        "eta0 = [0.01, 0.1, 0.5, 1, 100] \n",
        "\n",
        "# Create a dictionary of all the parameter options. We can access parameters of steps of a pipeline by using '__’\n",
        "parameters = dict(vect__ngram_range=ngram_range,\n",
        "                  tfidf__use_idf = use_idf, clf_svm__alpha = alpha, clf_svm__learning_rate = learning_rate, clf_svm__class_weight = class_weight, clf_svm__eta0 = eta0);\n",
        "# Call RandomizedSearchCV\n",
        "rs_clf_svm = RandomizedSearchCV(text_clf_svm, parameters, n_iter=20, cv=custom_cv, random_state=199, return_train_score=False, n_jobs=-1)\n",
        "rs_clf_svm.fit(X, Y)\n",
        "\n",
        "# View Best Parameters\n",
        "print('Best n-gram range:', rs_clf_svm.best_estimator_.get_params()['vect__ngram_range'])\n",
        "print('Best use_idf:', rs_clf_svm.best_estimator_.get_params()['tfidf__use_idf'])\n",
        "print('Best alpha:', rs_clf_svm.best_estimator_.get_params()['clf_svm__alpha'])\n",
        "print('Best learning_rate:', rs_clf_svm.best_estimator_.get_params()['clf_svm__learning_rate'])\n",
        "print('Best class_weight:', rs_clf_svm.best_estimator_.get_params()['clf_svm__class_weight'])\n",
        "print('Best eta0:', rs_clf_svm.best_estimator_.get_params()['clf_svm__eta0'])\n",
        "print(); print(rs_clf_svm.best_estimator_.get_params()['clf_svm'])"
      ],
      "execution_count": 26,
      "outputs": [
        {
          "output_type": "stream",
          "text": [
            "/usr/local/lib/python3.6/dist-packages/joblib/externals/loky/process_executor.py:706: UserWarning: A worker stopped while some jobs were given to the executor. This can be caused by a too short worker timeout or by a memory leak.\n",
            "  \"timeout or by a memory leak.\", UserWarning\n"
          ],
          "name": "stderr"
        },
        {
          "output_type": "stream",
          "text": [
            "Best n-gram range: (1, 2)\n",
            "Best use_idf: True\n",
            "Best alpha: 1e-05\n",
            "Best learning_rate: constant\n",
            "Best class_weight: None\n",
            "Best eta0: 0.5\n",
            "\n",
            "SGDClassifier(alpha=1e-05, average=False, class_weight=None,\n",
            "              early_stopping=False, epsilon=0.1, eta0=0.5, fit_intercept=True,\n",
            "              l1_ratio=0.15, learning_rate='constant', loss='hinge',\n",
            "              max_iter=1000, n_iter_no_change=5, n_jobs=None, penalty='l2',\n",
            "              power_t=0.5, random_state=None, shuffle=True, tol=0.001,\n",
            "              validation_fraction=0.1, verbose=0, warm_start=False)\n"
          ],
          "name": "stdout"
        }
      ]
    },
    {
      "cell_type": "markdown",
      "metadata": {
        "id": "kCY-lsNNBI8c",
        "colab_type": "text"
      },
      "source": [
        "## Random Forest"
      ]
    },
    {
      "cell_type": "code",
      "metadata": {
        "id": "q7tSuPcD_H11",
        "colab_type": "code",
        "outputId": "0644551b-633c-4e46-e3ea-df11aadad224",
        "colab": {
          "base_uri": "https://localhost:8080/",
          "height": 426
        }
      },
      "source": [
        "from sklearn.ensemble import RandomForestClassifier\n",
        "text_clf_rf = Pipeline([('vect', CountVectorizer(stop_words='english')), ('tfidf', TfidfTransformer()), ('clf_rf', RandomForestClassifier()),])\n",
        "text_clf_rf.fit(twenty_train.data, twenty_train.target)\n",
        "# clf_rf = RandomForestClassifier().fit(X_train_tfidf2, twenty_train.target)"
      ],
      "execution_count": 20,
      "outputs": [
        {
          "output_type": "execute_result",
          "data": {
            "text/plain": [
              "Pipeline(memory=None,\n",
              "         steps=[('vect',\n",
              "                 CountVectorizer(analyzer='word', binary=False,\n",
              "                                 decode_error='strict',\n",
              "                                 dtype=<class 'numpy.int64'>, encoding='utf-8',\n",
              "                                 input='content', lowercase=True, max_df=1.0,\n",
              "                                 max_features=None, min_df=1,\n",
              "                                 ngram_range=(1, 1), preprocessor=None,\n",
              "                                 stop_words='english', strip_accents=None,\n",
              "                                 token_pattern='(?u)\\\\b\\\\w\\\\w+\\\\b',\n",
              "                                 tokenizer=None, vocabular...\n",
              "                 RandomForestClassifier(bootstrap=True, ccp_alpha=0.0,\n",
              "                                        class_weight=None, criterion='gini',\n",
              "                                        max_depth=None, max_features='auto',\n",
              "                                        max_leaf_nodes=None, max_samples=None,\n",
              "                                        min_impurity_decrease=0.0,\n",
              "                                        min_impurity_split=None,\n",
              "                                        min_samples_leaf=1, min_samples_split=2,\n",
              "                                        min_weight_fraction_leaf=0.0,\n",
              "                                        n_estimators=100, n_jobs=None,\n",
              "                                        oob_score=False, random_state=None,\n",
              "                                        verbose=0, warm_start=False))],\n",
              "         verbose=False)"
            ]
          },
          "metadata": {
            "tags": []
          },
          "execution_count": 20
        }
      ]
    },
    {
      "cell_type": "markdown",
      "metadata": {
        "id": "j5H6ClM2Aec1",
        "colab_type": "text"
      },
      "source": [
        "### Hyperparameter Tuning"
      ]
    },
    {
      "cell_type": "code",
      "metadata": {
        "id": "liMfNqLa-85o",
        "colab_type": "code",
        "colab": {
          "base_uri": "https://localhost:8080/",
          "height": 375
        },
        "outputId": "e3d4f5da-468d-41cb-bd0d-f55796adfcaf"
      },
      "source": [
        "# Create lists of parameter for Random Forest Classifier:\n",
        "# Number of trees in random forest\n",
        "n_estimators = [10, 100, 500, 750]\n",
        "# Number of features to consider at every split\n",
        "max_features = ['auto', 'sqrt']\n",
        "# Maximum number of levels in tree\n",
        "max_depth = [45, 65, 95, 125]\n",
        "max_depth.append(None)\n",
        "# Minimum number of samples required to split a node\n",
        "min_samples_split = [2, 5, 10]\n",
        "# Minimum number of samples required at each leaf node\n",
        "min_samples_leaf = [1, 2, 4]\n",
        "# Method of selecting samples for training each tree\n",
        "bootstrap = [True, False]\n",
        "\n",
        "# Create a dictionary of all the parameter options. We can access parameters of steps of a pipeline by using '__’\n",
        "parameters = dict(vect__ngram_range = ngram_range,\n",
        "                  tfidf__use_idf = use_idf, clf_rf__n_estimators = n_estimators, clf_rf__max_features = max_features, clf_rf__max_depth=max_depth, clf_rf__min_samples_split = min_samples_split, clf_rf__min_samples_leaf = min_samples_leaf, clf_rf__bootstrap = bootstrap);\n",
        "# Call RandomizedSearchCV\n",
        "rs_clf_rf = RandomizedSearchCV(text_clf_rf, parameters, n_iter=20, cv=custom_cv, random_state=199, return_train_score=False, \n",
        "                            n_jobs=-1)\n",
        "rs_clf_rf.fit(X, Y)\n",
        "\n",
        "# View Best Parameters\n",
        "print('Best n-gram range:', rs_clf_rf.best_estimator_.get_params()['vect__ngram_range'])\n",
        "print('Best use_idf:', rs_clf_rf.best_estimator_.get_params()['tfidf__use_idf'])\n",
        "print('Best n_estimators:', rs_clf_rf.best_estimator_.get_params()['clf_rf__n_estimators'])\n",
        "print('Best max_features:', rs_clf_rf.best_estimator_.get_params()['clf_rf__max_features'])\n",
        "print('Best max_depth:', rs_clf_rf.best_estimator_.get_params()['clf_rf__max_depth'])\n",
        "print('Best min_samples_split:', rs_clf_rf.best_estimator_.get_params()['clf_rf__min_samples_split'])\n",
        "print('Best min_samples_leaf:', rs_clf_rf.best_estimator_.get_params()['clf_rf__min_samples_leaf'])\n",
        "print('Best bootstrap:', rs_clf_rf.best_estimator_.get_params()['clf_rf__bootstrap'])\n",
        "print(); print(rs_clf_rf.best_estimator_.get_params()['clf_rf'])"
      ],
      "execution_count": 21,
      "outputs": [
        {
          "output_type": "stream",
          "text": [
            "/usr/local/lib/python3.6/dist-packages/joblib/externals/loky/process_executor.py:706: UserWarning: A worker stopped while some jobs were given to the executor. This can be caused by a too short worker timeout or by a memory leak.\n",
            "  \"timeout or by a memory leak.\", UserWarning\n"
          ],
          "name": "stderr"
        },
        {
          "output_type": "stream",
          "text": [
            "Best n-gram range: (1, 2)\n",
            "Best use_idf: False\n",
            "Best n_estimators: 750\n",
            "Best max_features: sqrt\n",
            "Best max_depth: None\n",
            "Best min_samples_split: 2\n",
            "Best min_samples_leaf: 4\n",
            "Best bootstrap: True\n",
            "\n",
            "RandomForestClassifier(bootstrap=True, ccp_alpha=0.0, class_weight=None,\n",
            "                       criterion='gini', max_depth=None, max_features='sqrt',\n",
            "                       max_leaf_nodes=None, max_samples=None,\n",
            "                       min_impurity_decrease=0.0, min_impurity_split=None,\n",
            "                       min_samples_leaf=4, min_samples_split=2,\n",
            "                       min_weight_fraction_leaf=0.0, n_estimators=750,\n",
            "                       n_jobs=None, oob_score=False, random_state=None,\n",
            "                       verbose=0, warm_start=False)\n"
          ],
          "name": "stdout"
        }
      ]
    },
    {
      "cell_type": "markdown",
      "metadata": {
        "id": "5crS4vlO_ipn",
        "colab_type": "text"
      },
      "source": [
        "## Evaluate"
      ]
    },
    {
      "cell_type": "code",
      "metadata": {
        "id": "YwjxtWSb_uN5",
        "colab_type": "code",
        "outputId": "a9297dee-9d1e-4227-82e1-bbd286268054",
        "colab": {
          "base_uri": "https://localhost:8080/",
          "height": 1000
        }
      },
      "source": [
        "twenty_test = fetch_20newsgroups(subset='test', remove=(['headers','footers', 'quotes']))\n",
        "docs_test = twenty_test.data\n",
        "\n",
        "print(\"Logistic Regresssion:\")\n",
        "predicted_lr = rs_clf_lr.predict(docs_test)\n",
        "print(np.mean(predicted_lr == twenty_test.target))\n",
        "from sklearn import metrics\n",
        "print(metrics.classification_report(twenty_test.target, predicted_lr, target_names=twenty_test.target_names))\n",
        "\n",
        "print(\"SVM:\")\n",
        "predicted_svm = rs_clf_svm.predict(docs_test)\n",
        "print(np.mean(predicted_svm == twenty_test.target))\n",
        "from sklearn import metrics\n",
        "print(metrics.classification_report(twenty_test.target, predicted_svm, target_names=twenty_test.target_names))\n",
        "\n",
        "print(\"Random Forest:\")\n",
        "predicted_rf = rs_clf_rf.predict(docs_test)\n",
        "print(np.mean(predicted_rf == twenty_test.target))\n",
        "from sklearn import metrics\n",
        "print(metrics.classification_report(twenty_test.target, predicted_rf, target_names=twenty_test.target_names))"
      ],
      "execution_count": 27,
      "outputs": [
        {
          "output_type": "stream",
          "text": [
            "Logistic Regresssion:\n",
            "0.6909187466808284\n",
            "                          precision    recall  f1-score   support\n",
            "\n",
            "             alt.atheism       0.49      0.45      0.47       319\n",
            "           comp.graphics       0.63      0.71      0.67       389\n",
            " comp.os.ms-windows.misc       0.66      0.63      0.64       394\n",
            "comp.sys.ibm.pc.hardware       0.68      0.65      0.66       392\n",
            "   comp.sys.mac.hardware       0.75      0.69      0.72       385\n",
            "          comp.windows.x       0.83      0.72      0.77       395\n",
            "            misc.forsale       0.76      0.79      0.77       390\n",
            "               rec.autos       0.75      0.71      0.73       396\n",
            "         rec.motorcycles       0.48      0.81      0.61       398\n",
            "      rec.sport.baseball       0.81      0.82      0.82       397\n",
            "        rec.sport.hockey       0.90      0.86      0.88       399\n",
            "               sci.crypt       0.89      0.67      0.76       396\n",
            "         sci.electronics       0.56      0.61      0.59       393\n",
            "                 sci.med       0.76      0.79      0.78       396\n",
            "               sci.space       0.70      0.75      0.73       394\n",
            "  soc.religion.christian       0.64      0.79      0.71       398\n",
            "      talk.politics.guns       0.59      0.67      0.63       364\n",
            "   talk.politics.mideast       0.85      0.75      0.79       376\n",
            "      talk.politics.misc       0.59      0.45      0.51       310\n",
            "      talk.religion.misc       0.59      0.22      0.31       251\n",
            "\n",
            "                accuracy                           0.69      7532\n",
            "               macro avg       0.70      0.68      0.68      7532\n",
            "            weighted avg       0.70      0.69      0.69      7532\n",
            "\n",
            "SVM:\n",
            "0.7035315985130112\n",
            "                          precision    recall  f1-score   support\n",
            "\n",
            "             alt.atheism       0.55      0.50      0.52       319\n",
            "           comp.graphics       0.68      0.73      0.71       389\n",
            " comp.os.ms-windows.misc       0.64      0.62      0.63       394\n",
            "comp.sys.ibm.pc.hardware       0.66      0.65      0.66       392\n",
            "   comp.sys.mac.hardware       0.74      0.70      0.72       385\n",
            "          comp.windows.x       0.82      0.72      0.77       395\n",
            "            misc.forsale       0.74      0.80      0.77       390\n",
            "               rec.autos       0.78      0.71      0.74       396\n",
            "         rec.motorcycles       0.81      0.75      0.78       398\n",
            "      rec.sport.baseball       0.55      0.85      0.67       397\n",
            "        rec.sport.hockey       0.88      0.90      0.89       399\n",
            "               sci.crypt       0.83      0.72      0.77       396\n",
            "         sci.electronics       0.64      0.59      0.62       393\n",
            "                 sci.med       0.77      0.79      0.78       396\n",
            "               sci.space       0.75      0.76      0.76       394\n",
            "  soc.religion.christian       0.66      0.82      0.73       398\n",
            "      talk.politics.guns       0.59      0.68      0.63       364\n",
            "   talk.politics.mideast       0.85      0.76      0.80       376\n",
            "      talk.politics.misc       0.59      0.45      0.51       310\n",
            "      talk.religion.misc       0.47      0.31      0.38       251\n",
            "\n",
            "                accuracy                           0.70      7532\n",
            "               macro avg       0.70      0.69      0.69      7532\n",
            "            weighted avg       0.71      0.70      0.70      7532\n",
            "\n",
            "Random Forest:\n",
            "0.6570631970260223\n",
            "                          precision    recall  f1-score   support\n",
            "\n",
            "             alt.atheism       0.54      0.29      0.38       319\n",
            "           comp.graphics       0.60      0.62      0.61       389\n",
            " comp.os.ms-windows.misc       0.61      0.65      0.63       394\n",
            "comp.sys.ibm.pc.hardware       0.62      0.64      0.63       392\n",
            "   comp.sys.mac.hardware       0.77      0.67      0.71       385\n",
            "          comp.windows.x       0.76      0.72      0.74       395\n",
            "            misc.forsale       0.73      0.75      0.74       390\n",
            "               rec.autos       0.68      0.68      0.68       396\n",
            "         rec.motorcycles       0.37      0.81      0.51       398\n",
            "      rec.sport.baseball       0.79      0.79      0.79       397\n",
            "        rec.sport.hockey       0.84      0.88      0.86       399\n",
            "               sci.crypt       0.81      0.71      0.76       396\n",
            "         sci.electronics       0.60      0.49      0.54       393\n",
            "                 sci.med       0.79      0.68      0.73       396\n",
            "               sci.space       0.76      0.72      0.74       394\n",
            "  soc.religion.christian       0.55      0.84      0.66       398\n",
            "      talk.politics.guns       0.56      0.68      0.62       364\n",
            "   talk.politics.mideast       0.84      0.75      0.79       376\n",
            "      talk.politics.misc       0.71      0.34      0.46       310\n",
            "      talk.religion.misc       0.63      0.07      0.12       251\n",
            "\n",
            "                accuracy                           0.66      7532\n",
            "               macro avg       0.68      0.64      0.64      7532\n",
            "            weighted avg       0.68      0.66      0.65      7532\n",
            "\n"
          ],
          "name": "stdout"
        }
      ]
    },
    {
      "cell_type": "code",
      "metadata": {
        "id": "Qdtb2ac0_uSE",
        "colab_type": "code",
        "colab": {}
      },
      "source": [
        ""
      ],
      "execution_count": 0,
      "outputs": []
    },
    {
      "cell_type": "code",
      "metadata": {
        "id": "3KkxMcCl-l8-",
        "colab_type": "code",
        "colab": {}
      },
      "source": [
        " #   Training a classifier example:\n",
        " #   from sklearn.naive_bayes import MultinomialNB\n",
        " #   clf = MultinomialNB().fit(X_train_tfidf, twenty_train.target)\n",
        "    \n"
      ],
      "execution_count": 0,
      "outputs": []
    },
    {
      "cell_type": "code",
      "metadata": {
        "id": "aJrv7sKs-l9B",
        "colab_type": "code",
        "colab": {}
      },
      "source": [
        "#  Predict an outcome on new document:\n",
        "#  Doc_examples = ['God is love', 'GPU is fast']\n",
        "\n",
        "#  convert documents into tf-idf.  \n",
        "#  X_new_counts = count_vect.transform(Doc_examples) \n",
        "#  X_new_tfidf = tfidf_transformer.transform(X_new_counts)\n",
        "\n",
        "\n",
        "#  predicted = clf.predict(X_new_tfidf)   (name_of_your_model_object)\n",
        "#  it stores the prediction of doc_examples.\n",
        "\n",
        "\n"
      ],
      "execution_count": 0,
      "outputs": []
    },
    {
      "cell_type": "code",
      "metadata": {
        "id": "xeRvkq50-l9D",
        "colab_type": "code",
        "colab": {}
      },
      "source": [
        ""
      ],
      "execution_count": 0,
      "outputs": []
    }
  ]
}
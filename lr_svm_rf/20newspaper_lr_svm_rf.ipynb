{
  "nbformat": 4,
  "nbformat_minor": 0,
  "metadata": {
    "kernelspec": {
      "display_name": "Python 3",
      "language": "python",
      "name": "python3"
    },
    "language_info": {
      "codemirror_mode": {
        "name": "ipython",
        "version": 3
      },
      "file_extension": ".py",
      "mimetype": "text/x-python",
      "name": "python",
      "nbconvert_exporter": "python",
      "pygments_lexer": "ipython3",
      "version": "3.7.4"
    },
    "colab": {
      "name": "20newspaper.ipynb",
      "provenance": [],
      "collapsed_sections": []
    }
  },
  "cells": [
    {
      "cell_type": "code",
      "metadata": {
        "id": "YbINtD25-l8n",
        "colab_type": "code",
        "colab": {
          "base_uri": "https://localhost:8080/",
          "height": 52
        },
        "outputId": "e5cd2e6e-97c5-41bc-bf53-a9353362620b"
      },
      "source": [
        "#import 20newsgroups datasets from sklearn\n",
        "from sklearn.datasets import fetch_20newsgroups\n",
        "twenty_train = fetch_20newsgroups(subset='train',remove=(['headers','footers', 'quotes']))"
      ],
      "execution_count": 2,
      "outputs": [
        {
          "output_type": "stream",
          "text": [
            "Downloading 20news dataset. This may take a few minutes.\n",
            "Downloading dataset from https://ndownloader.figshare.com/files/5975967 (14 MB)\n"
          ],
          "name": "stderr"
        }
      ]
    },
    {
      "cell_type": "code",
      "metadata": {
        "id": "Uvvb-DSM-l8t",
        "colab_type": "code",
        "colab": {
          "base_uri": "https://localhost:8080/",
          "height": 372
        },
        "outputId": "252548fc-0df6-47fb-fe2a-46083c430f99"
      },
      "source": [
        "#list of categories(labels)\n",
        "twenty_train.target_names"
      ],
      "execution_count": 3,
      "outputs": [
        {
          "output_type": "execute_result",
          "data": {
            "text/plain": [
              "['alt.atheism',\n",
              " 'comp.graphics',\n",
              " 'comp.os.ms-windows.misc',\n",
              " 'comp.sys.ibm.pc.hardware',\n",
              " 'comp.sys.mac.hardware',\n",
              " 'comp.windows.x',\n",
              " 'misc.forsale',\n",
              " 'rec.autos',\n",
              " 'rec.motorcycles',\n",
              " 'rec.sport.baseball',\n",
              " 'rec.sport.hockey',\n",
              " 'sci.crypt',\n",
              " 'sci.electronics',\n",
              " 'sci.med',\n",
              " 'sci.space',\n",
              " 'soc.religion.christian',\n",
              " 'talk.politics.guns',\n",
              " 'talk.politics.mideast',\n",
              " 'talk.politics.misc',\n",
              " 'talk.religion.misc']"
            ]
          },
          "metadata": {
            "tags": []
          },
          "execution_count": 3
        }
      ]
    },
    {
      "cell_type": "code",
      "metadata": {
        "id": "xPEhCp2s-l8x",
        "colab_type": "code",
        "colab": {
          "base_uri": "https://localhost:8080/",
          "height": 52
        },
        "outputId": "dee851d3-5ecf-4d82-8ff5-b02cb6269af0"
      },
      "source": [
        "from sklearn.feature_extraction.text import CountVectorizer\n",
        "\n",
        "#counts the occurence of each word. \n",
        "count_vect = CountVectorizer()\n",
        "\n",
        "#second one exclude stopwords, like 'the','of'..\n",
        "count_vect2= CountVectorizer(stop_words='english') \n",
        "\n",
        "X_train_counts = count_vect.fit_transform(twenty_train.data)\n",
        "X_train_counts2 = count_vect2.fit_transform(twenty_train.data)\n",
        "\n",
        "print(X_train_counts.shape)\n",
        "print(X_train_counts2.shape)\n",
        "\n",
        "# count_vect.vocabulary_.get(u'algorithm')"
      ],
      "execution_count": 4,
      "outputs": [
        {
          "output_type": "stream",
          "text": [
            "(11314, 101631)\n",
            "(11314, 101322)\n"
          ],
          "name": "stdout"
        }
      ]
    },
    {
      "cell_type": "code",
      "metadata": {
        "id": "OKBmDxM_-l80",
        "colab_type": "code",
        "colab": {
          "base_uri": "https://localhost:8080/",
          "height": 52
        },
        "outputId": "e4408597-82a5-45d6-89b4-9d38df3d3606"
      },
      "source": [
        "from sklearn.feature_extraction.text import TfidfTransformer\n",
        "#transform from occurrences to tf-idf \n",
        "#tf-idf: 1. Decide the number of occurrences of each word in a document by total number of words in document. (Term Frequences tf)\n",
        "#        2. It does another refinement. Downscaling weights for words that occurring in many documents.\n",
        "tfidf_transformer = TfidfTransformer()\n",
        "tfidf_transformer2 = TfidfTransformer()\n",
        "\n",
        "#use X_train_tfidf to train the MODEL\n",
        "X_train_tfidf = tfidf_transformer.fit_transform(X_train_counts)\n",
        "X_train_tfidf2 = tfidf_transformer2.fit_transform(X_train_counts2)\n",
        "\n",
        "X_test = fetch_20newsgroups(subset='test', shuffle=True, random_state=42)\n",
        "docs_test = X_test.data\n",
        "#use docs_test to fit.\n",
        "print(X_train_tfidf.shape)\n",
        "print(X_train_tfidf2.shape)"
      ],
      "execution_count": 5,
      "outputs": [
        {
          "output_type": "stream",
          "text": [
            "(11314, 101631)\n",
            "(11314, 101322)\n"
          ],
          "name": "stdout"
        }
      ]
    },
    {
      "cell_type": "code",
      "metadata": {
        "id": "0sESLkoq-l82",
        "colab_type": "code",
        "colab": {}
      },
      "source": [
        "import pandas as pd\n",
        "\n",
        "# get the first document\n",
        "first_vector=X_train_tfidf[13]\n",
        "first_vector2=X_train_tfidf2[13]\n",
        " \n",
        "# show the TF-IDF scores , compare with/without stopwords\n",
        "df = pd.DataFrame(first_vector.T.todense(), index=count_vect.get_feature_names(), columns=[\"tfidf\"])\n",
        "df2 = pd.DataFrame(first_vector2.T.todense(), index=count_vect2.get_feature_names(), columns=[\"tfidf_stopwords\"])\n",
        "\n"
      ],
      "execution_count": 0,
      "outputs": []
    },
    {
      "cell_type": "code",
      "metadata": {
        "id": "WiPJkjsZ-l85",
        "colab_type": "code",
        "colab": {
          "base_uri": "https://localhost:8080/",
          "height": 399
        },
        "outputId": "c7d2ae86-5ac0-43fb-c37b-63913cf37c28"
      },
      "source": [
        "df.sort_values(by=[\"tfidf\"],ascending=False)"
      ],
      "execution_count": 7,
      "outputs": [
        {
          "output_type": "execute_result",
          "data": {
            "text/html": [
              "<div>\n",
              "<style scoped>\n",
              "    .dataframe tbody tr th:only-of-type {\n",
              "        vertical-align: middle;\n",
              "    }\n",
              "\n",
              "    .dataframe tbody tr th {\n",
              "        vertical-align: top;\n",
              "    }\n",
              "\n",
              "    .dataframe thead th {\n",
              "        text-align: right;\n",
              "    }\n",
              "</style>\n",
              "<table border=\"1\" class=\"dataframe\">\n",
              "  <thead>\n",
              "    <tr style=\"text-align: right;\">\n",
              "      <th></th>\n",
              "      <th>tfidf</th>\n",
              "    </tr>\n",
              "  </thead>\n",
              "  <tbody>\n",
              "    <tr>\n",
              "      <th>ssf</th>\n",
              "      <td>0.356347</td>\n",
              "    </tr>\n",
              "    <tr>\n",
              "      <th>flights</th>\n",
              "      <td>0.298625</td>\n",
              "    </tr>\n",
              "    <tr>\n",
              "      <th>option</th>\n",
              "      <td>0.242772</td>\n",
              "    </tr>\n",
              "    <tr>\n",
              "      <th>capability</th>\n",
              "      <td>0.242602</td>\n",
              "    </tr>\n",
              "    <tr>\n",
              "      <th>the</th>\n",
              "      <td>0.216754</td>\n",
              "    </tr>\n",
              "    <tr>\n",
              "      <th>...</th>\n",
              "      <td>...</td>\n",
              "    </tr>\n",
              "    <tr>\n",
              "      <th>discern</th>\n",
              "      <td>0.000000</td>\n",
              "    </tr>\n",
              "    <tr>\n",
              "      <th>discarded</th>\n",
              "      <td>0.000000</td>\n",
              "    </tr>\n",
              "    <tr>\n",
              "      <th>discard</th>\n",
              "      <td>0.000000</td>\n",
              "    </tr>\n",
              "    <tr>\n",
              "      <th>discarcina</th>\n",
              "      <td>0.000000</td>\n",
              "    </tr>\n",
              "    <tr>\n",
              "      <th>ýé</th>\n",
              "      <td>0.000000</td>\n",
              "    </tr>\n",
              "  </tbody>\n",
              "</table>\n",
              "<p>101631 rows × 1 columns</p>\n",
              "</div>"
            ],
            "text/plain": [
              "               tfidf\n",
              "ssf         0.356347\n",
              "flights     0.298625\n",
              "option      0.242772\n",
              "capability  0.242602\n",
              "the         0.216754\n",
              "...              ...\n",
              "discern     0.000000\n",
              "discarded   0.000000\n",
              "discard     0.000000\n",
              "discarcina  0.000000\n",
              "ýé          0.000000\n",
              "\n",
              "[101631 rows x 1 columns]"
            ]
          },
          "metadata": {
            "tags": []
          },
          "execution_count": 7
        }
      ]
    },
    {
      "cell_type": "code",
      "metadata": {
        "id": "6ITRIvQu-l88",
        "colab_type": "code",
        "colab": {
          "base_uri": "https://localhost:8080/",
          "height": 399
        },
        "outputId": "054994e6-5ada-4268-a02c-bb0bfaf299df"
      },
      "source": [
        "df2.sort_values(by=[\"tfidf_stopwords\"],ascending=False)"
      ],
      "execution_count": 8,
      "outputs": [
        {
          "output_type": "execute_result",
          "data": {
            "text/html": [
              "<div>\n",
              "<style scoped>\n",
              "    .dataframe tbody tr th:only-of-type {\n",
              "        vertical-align: middle;\n",
              "    }\n",
              "\n",
              "    .dataframe tbody tr th {\n",
              "        vertical-align: top;\n",
              "    }\n",
              "\n",
              "    .dataframe thead th {\n",
              "        text-align: right;\n",
              "    }\n",
              "</style>\n",
              "<table border=\"1\" class=\"dataframe\">\n",
              "  <thead>\n",
              "    <tr style=\"text-align: right;\">\n",
              "      <th></th>\n",
              "      <th>tfidf_stopwords</th>\n",
              "    </tr>\n",
              "  </thead>\n",
              "  <tbody>\n",
              "    <tr>\n",
              "      <th>ssf</th>\n",
              "      <td>0.383239</td>\n",
              "    </tr>\n",
              "    <tr>\n",
              "      <th>flights</th>\n",
              "      <td>0.321161</td>\n",
              "    </tr>\n",
              "    <tr>\n",
              "      <th>option</th>\n",
              "      <td>0.261093</td>\n",
              "    </tr>\n",
              "    <tr>\n",
              "      <th>capability</th>\n",
              "      <td>0.260910</td>\n",
              "    </tr>\n",
              "    <tr>\n",
              "      <th>module</th>\n",
              "      <td>0.224627</td>\n",
              "    </tr>\n",
              "    <tr>\n",
              "      <th>...</th>\n",
              "      <td>...</td>\n",
              "    </tr>\n",
              "    <tr>\n",
              "      <th>disappoint</th>\n",
              "      <td>0.000000</td>\n",
              "    </tr>\n",
              "    <tr>\n",
              "      <th>disappering</th>\n",
              "      <td>0.000000</td>\n",
              "    </tr>\n",
              "    <tr>\n",
              "      <th>disappears</th>\n",
              "      <td>0.000000</td>\n",
              "    </tr>\n",
              "    <tr>\n",
              "      <th>disappearing</th>\n",
              "      <td>0.000000</td>\n",
              "    </tr>\n",
              "    <tr>\n",
              "      <th>ýé</th>\n",
              "      <td>0.000000</td>\n",
              "    </tr>\n",
              "  </tbody>\n",
              "</table>\n",
              "<p>101322 rows × 1 columns</p>\n",
              "</div>"
            ],
            "text/plain": [
              "              tfidf_stopwords\n",
              "ssf                  0.383239\n",
              "flights              0.321161\n",
              "option               0.261093\n",
              "capability           0.260910\n",
              "module               0.224627\n",
              "...                       ...\n",
              "disappoint           0.000000\n",
              "disappering          0.000000\n",
              "disappears           0.000000\n",
              "disappearing         0.000000\n",
              "ýé                   0.000000\n",
              "\n",
              "[101322 rows x 1 columns]"
            ]
          },
          "metadata": {
            "tags": []
          },
          "execution_count": 8
        }
      ]
    },
    {
      "cell_type": "markdown",
      "metadata": {
        "id": "I9bzNbxc-8kB",
        "colab_type": "text"
      },
      "source": [
        "# Models"
      ]
    },
    {
      "cell_type": "markdown",
      "metadata": {
        "id": "fHggwwqW_FLy",
        "colab_type": "text"
      },
      "source": [
        "## Logistic Regression"
      ]
    },
    {
      "cell_type": "code",
      "metadata": {
        "id": "9Vm17pC-_HvM",
        "colab_type": "code",
        "colab": {
          "base_uri": "https://localhost:8080/",
          "height": 426
        },
        "outputId": "062bc781-298e-4122-da0f-50b76bc4f2a9"
      },
      "source": [
        "from sklearn.linear_model import LogisticRegression\n",
        "from sklearn.pipeline import Pipeline\n",
        "text_clf_lr = Pipeline([('vect', CountVectorizer()), ('tfidf', TfidfTransformer()), ('clf_lr', LogisticRegression(multi_class = 'multinomial')),])\n",
        "text_clf_lr.fit(twenty_train.data, twenty_train.target)"
      ],
      "execution_count": 10,
      "outputs": [
        {
          "output_type": "execute_result",
          "data": {
            "text/plain": [
              "Pipeline(memory=None,\n",
              "         steps=[('vect',\n",
              "                 CountVectorizer(analyzer='word', binary=False,\n",
              "                                 decode_error='strict',\n",
              "                                 dtype=<class 'numpy.int64'>, encoding='utf-8',\n",
              "                                 input='content', lowercase=True, max_df=1.0,\n",
              "                                 max_features=None, min_df=1,\n",
              "                                 ngram_range=(1, 1), preprocessor=None,\n",
              "                                 stop_words=None, strip_accents=None,\n",
              "                                 token_pattern='(?u)\\\\b\\\\w\\\\w+\\\\b',\n",
              "                                 tokenizer=None, vocabulary=Non...\n",
              "                ('tfidf',\n",
              "                 TfidfTransformer(norm='l2', smooth_idf=True,\n",
              "                                  sublinear_tf=False, use_idf=True)),\n",
              "                ('clf_lr',\n",
              "                 LogisticRegression(C=1.0, class_weight=None, dual=False,\n",
              "                                    fit_intercept=True, intercept_scaling=1,\n",
              "                                    l1_ratio=None, max_iter=100,\n",
              "                                    multi_class='multinomial', n_jobs=None,\n",
              "                                    penalty='l2', random_state=None,\n",
              "                                    solver='lbfgs', tol=0.0001, verbose=0,\n",
              "                                    warm_start=False))],\n",
              "         verbose=False)"
            ]
          },
          "metadata": {
            "tags": []
          },
          "execution_count": 10
        }
      ]
    },
    {
      "cell_type": "markdown",
      "metadata": {
        "id": "15k_tWnnAbil",
        "colab_type": "text"
      },
      "source": [
        "## SVM\n"
      ]
    },
    {
      "cell_type": "code",
      "metadata": {
        "id": "8ElSwwTD_Hy3",
        "colab_type": "code",
        "colab": {
          "base_uri": "https://localhost:8080/",
          "height": 372
        },
        "outputId": "dda892a0-e987-4789-cc82-6de7b55eb75a"
      },
      "source": [
        "from sklearn.linear_model import SGDClassifier\n",
        "text_clf_svm = Pipeline([('vect', CountVectorizer()), ('tfidf', TfidfTransformer()), ('clf_svm', SGDClassifier()),])\n",
        "text_clf_svm.fit(twenty_train.data, twenty_train.target)"
      ],
      "execution_count": 13,
      "outputs": [
        {
          "output_type": "execute_result",
          "data": {
            "text/plain": [
              "Pipeline(memory=None,\n",
              "         steps=[('vect',\n",
              "                 CountVectorizer(analyzer='word', binary=False,\n",
              "                                 decode_error='strict',\n",
              "                                 dtype=<class 'numpy.int64'>, encoding='utf-8',\n",
              "                                 input='content', lowercase=True, max_df=1.0,\n",
              "                                 max_features=None, min_df=1,\n",
              "                                 ngram_range=(1, 1), preprocessor=None,\n",
              "                                 stop_words=None, strip_accents=None,\n",
              "                                 token_pattern='(?u)\\\\b\\\\w\\\\w+\\\\b',\n",
              "                                 tokenizer=None, vocabulary=Non...\n",
              "                 SGDClassifier(alpha=0.0001, average=False, class_weight=None,\n",
              "                               early_stopping=False, epsilon=0.1, eta0=0.0,\n",
              "                               fit_intercept=True, l1_ratio=0.15,\n",
              "                               learning_rate='optimal', loss='hinge',\n",
              "                               max_iter=1000, n_iter_no_change=5, n_jobs=None,\n",
              "                               penalty='l2', power_t=0.5, random_state=None,\n",
              "                               shuffle=True, tol=0.001, validation_fraction=0.1,\n",
              "                               verbose=0, warm_start=False))],\n",
              "         verbose=False)"
            ]
          },
          "metadata": {
            "tags": []
          },
          "execution_count": 13
        }
      ]
    },
    {
      "cell_type": "markdown",
      "metadata": {
        "id": "kCY-lsNNBI8c",
        "colab_type": "text"
      },
      "source": [
        "## Random Forest"
      ]
    },
    {
      "cell_type": "code",
      "metadata": {
        "id": "q7tSuPcD_H11",
        "colab_type": "code",
        "colab": {
          "base_uri": "https://localhost:8080/",
          "height": 426
        },
        "outputId": "213ba201-3e85-4cad-cdf7-0eceb983fe5b"
      },
      "source": [
        "from sklearn.ensemble import RandomForestClassifier\n",
        "text_clf_rf = Pipeline([('vect', CountVectorizer()), ('tfidf', TfidfTransformer()), ('clf_rf', RandomForestClassifier()),])\n",
        "text_clf_rf.fit(twenty_train.data, twenty_train.target)"
      ],
      "execution_count": 15,
      "outputs": [
        {
          "output_type": "execute_result",
          "data": {
            "text/plain": [
              "Pipeline(memory=None,\n",
              "         steps=[('vect',\n",
              "                 CountVectorizer(analyzer='word', binary=False,\n",
              "                                 decode_error='strict',\n",
              "                                 dtype=<class 'numpy.int64'>, encoding='utf-8',\n",
              "                                 input='content', lowercase=True, max_df=1.0,\n",
              "                                 max_features=None, min_df=1,\n",
              "                                 ngram_range=(1, 1), preprocessor=None,\n",
              "                                 stop_words=None, strip_accents=None,\n",
              "                                 token_pattern='(?u)\\\\b\\\\w\\\\w+\\\\b',\n",
              "                                 tokenizer=None, vocabulary=Non...\n",
              "                 RandomForestClassifier(bootstrap=True, ccp_alpha=0.0,\n",
              "                                        class_weight=None, criterion='gini',\n",
              "                                        max_depth=None, max_features='auto',\n",
              "                                        max_leaf_nodes=None, max_samples=None,\n",
              "                                        min_impurity_decrease=0.0,\n",
              "                                        min_impurity_split=None,\n",
              "                                        min_samples_leaf=1, min_samples_split=2,\n",
              "                                        min_weight_fraction_leaf=0.0,\n",
              "                                        n_estimators=100, n_jobs=None,\n",
              "                                        oob_score=False, random_state=None,\n",
              "                                        verbose=0, warm_start=False))],\n",
              "         verbose=False)"
            ]
          },
          "metadata": {
            "tags": []
          },
          "execution_count": 15
        }
      ]
    },
    {
      "cell_type": "code",
      "metadata": {
        "id": "liMfNqLa-85o",
        "colab_type": "code",
        "colab": {}
      },
      "source": [
        "  "
      ],
      "execution_count": 0,
      "outputs": []
    },
    {
      "cell_type": "markdown",
      "metadata": {
        "id": "5crS4vlO_ipn",
        "colab_type": "text"
      },
      "source": [
        "## Evaluate"
      ]
    },
    {
      "cell_type": "code",
      "metadata": {
        "id": "YwjxtWSb_uN5",
        "colab_type": "code",
        "colab": {
          "base_uri": "https://localhost:8080/",
          "height": 1000
        },
        "outputId": "0e2a5293-3e19-4d5b-c6d3-ae7152d16119"
      },
      "source": [
        "import numpy as np\n",
        "twenty_test = fetch_20newsgroups(subset='test', remove=(['headers','footers', 'quotes']))\n",
        "docs_test = twenty_test.data\n",
        "\n",
        "print(\"Logistic Regresssion:\")\n",
        "predicted_lr = text_clf_lr.predict(docs_test)\n",
        "print(np.mean(predicted_lr == twenty_test.target))\n",
        "from sklearn import metrics\n",
        "print(metrics.classification_report(twenty_test.target, predicted_lr, target_names=twenty_test.target_names))\n",
        "\n",
        "print(\"SVM:\")\n",
        "predicted_svm = text_clf_svm.predict(docs_test)\n",
        "print(np.mean(predicted_svm == twenty_test.target))\n",
        "from sklearn import metrics\n",
        "print(metrics.classification_report(twenty_test.target, predicted_svm, target_names=twenty_test.target_names))\n",
        "\n",
        "print(\"Random Forest:\")\n",
        "predicted_rf = text_clf_rf.predict(docs_test)\n",
        "print(np.mean(predicted_rf == twenty_test.target))\n",
        "from sklearn import metrics\n",
        "print(metrics.classification_report(twenty_test.target, predicted_rf, target_names=twenty_test.target_names))"
      ],
      "execution_count": 16,
      "outputs": [
        {
          "output_type": "stream",
          "text": [
            "Logistic Regresssion:\n",
            "0.6736590546999469\n",
            "                          precision    recall  f1-score   support\n",
            "\n",
            "             alt.atheism       0.47      0.45      0.46       319\n",
            "           comp.graphics       0.62      0.70      0.66       389\n",
            " comp.os.ms-windows.misc       0.66      0.61      0.63       394\n",
            "comp.sys.ibm.pc.hardware       0.66      0.62      0.64       392\n",
            "   comp.sys.mac.hardware       0.74      0.66      0.70       385\n",
            "          comp.windows.x       0.82      0.68      0.74       395\n",
            "            misc.forsale       0.70      0.80      0.75       390\n",
            "               rec.autos       0.71      0.70      0.70       396\n",
            "         rec.motorcycles       0.71      0.78      0.74       398\n",
            "      rec.sport.baseball       0.50      0.83      0.63       397\n",
            "        rec.sport.hockey       0.89      0.85      0.87       399\n",
            "               sci.crypt       0.85      0.65      0.74       396\n",
            "         sci.electronics       0.55      0.62      0.58       393\n",
            "                 sci.med       0.74      0.74      0.74       396\n",
            "               sci.space       0.70      0.73      0.71       394\n",
            "  soc.religion.christian       0.64      0.76      0.70       398\n",
            "      talk.politics.guns       0.59      0.69      0.64       364\n",
            "   talk.politics.mideast       0.83      0.72      0.77       376\n",
            "      talk.politics.misc       0.58      0.42      0.49       310\n",
            "      talk.religion.misc       0.54      0.18      0.27       251\n",
            "\n",
            "                accuracy                           0.67      7532\n",
            "               macro avg       0.68      0.66      0.66      7532\n",
            "            weighted avg       0.68      0.67      0.67      7532\n",
            "\n",
            "SVM:\n",
            "0.6984864577801381\n",
            "                          precision    recall  f1-score   support\n",
            "\n",
            "             alt.atheism       0.54      0.47      0.51       319\n",
            "           comp.graphics       0.66      0.72      0.69       389\n",
            " comp.os.ms-windows.misc       0.63      0.62      0.62       394\n",
            "comp.sys.ibm.pc.hardware       0.68      0.66      0.67       392\n",
            "   comp.sys.mac.hardware       0.77      0.71      0.74       385\n",
            "          comp.windows.x       0.81      0.70      0.75       395\n",
            "            misc.forsale       0.78      0.81      0.79       390\n",
            "               rec.autos       0.52      0.77      0.62       396\n",
            "         rec.motorcycles       0.80      0.76      0.78       398\n",
            "      rec.sport.baseball       0.83      0.80      0.81       397\n",
            "        rec.sport.hockey       0.84      0.89      0.86       399\n",
            "               sci.crypt       0.83      0.72      0.77       396\n",
            "         sci.electronics       0.63      0.56      0.59       393\n",
            "                 sci.med       0.78      0.78      0.78       396\n",
            "               sci.space       0.69      0.77      0.73       394\n",
            "  soc.religion.christian       0.64      0.83      0.72       398\n",
            "      talk.politics.guns       0.58      0.68      0.63       364\n",
            "   talk.politics.mideast       0.80      0.77      0.78       376\n",
            "      talk.politics.misc       0.58      0.45      0.51       310\n",
            "      talk.religion.misc       0.52      0.24      0.33       251\n",
            "\n",
            "                accuracy                           0.70      7532\n",
            "               macro avg       0.70      0.69      0.68      7532\n",
            "            weighted avg       0.70      0.70      0.69      7532\n",
            "\n",
            "Random Forest:\n",
            "0.5981147105682422\n",
            "                          precision    recall  f1-score   support\n",
            "\n",
            "             alt.atheism       0.37      0.34      0.35       319\n",
            "           comp.graphics       0.50      0.60      0.55       389\n",
            " comp.os.ms-windows.misc       0.55      0.62      0.58       394\n",
            "comp.sys.ibm.pc.hardware       0.58      0.56      0.57       392\n",
            "   comp.sys.mac.hardware       0.62      0.63      0.62       385\n",
            "          comp.windows.x       0.71      0.65      0.68       395\n",
            "            misc.forsale       0.71      0.78      0.75       390\n",
            "               rec.autos       0.43      0.68      0.53       396\n",
            "         rec.motorcycles       0.61      0.67      0.64       398\n",
            "      rec.sport.baseball       0.59      0.73      0.65       397\n",
            "        rec.sport.hockey       0.74      0.81      0.77       399\n",
            "               sci.crypt       0.79      0.64      0.71       396\n",
            "         sci.electronics       0.52      0.38      0.44       393\n",
            "                 sci.med       0.73      0.56      0.63       396\n",
            "               sci.space       0.68      0.66      0.67       394\n",
            "  soc.religion.christian       0.54      0.76      0.63       398\n",
            "      talk.politics.guns       0.54      0.58      0.56       364\n",
            "   talk.politics.mideast       0.79      0.67      0.73       376\n",
            "      talk.politics.misc       0.52      0.21      0.30       310\n",
            "      talk.religion.misc       0.34      0.07      0.12       251\n",
            "\n",
            "                accuracy                           0.60      7532\n",
            "               macro avg       0.59      0.58      0.57      7532\n",
            "            weighted avg       0.60      0.60      0.59      7532\n",
            "\n"
          ],
          "name": "stdout"
        }
      ]
    },
    {
      "cell_type": "code",
      "metadata": {
        "id": "Qdtb2ac0_uSE",
        "colab_type": "code",
        "colab": {}
      },
      "source": [
        ""
      ],
      "execution_count": 0,
      "outputs": []
    },
    {
      "cell_type": "code",
      "metadata": {
        "id": "3KkxMcCl-l8-",
        "colab_type": "code",
        "colab": {}
      },
      "source": [
        " #   Training a classifier example:\n",
        " #   from sklearn.naive_bayes import MultinomialNB\n",
        " #   clf = MultinomialNB().fit(X_train_tfidf, twenty_train.target)\n",
        "    \n"
      ],
      "execution_count": 0,
      "outputs": []
    },
    {
      "cell_type": "code",
      "metadata": {
        "id": "aJrv7sKs-l9B",
        "colab_type": "code",
        "colab": {}
      },
      "source": [
        "#  Predict an outcome on new document:\n",
        "#  Doc_examples = ['God is love', 'GPU is fast']\n",
        "\n",
        "#  convert documents into tf-idf.  \n",
        "#  X_new_counts = count_vect.transform(Doc_examples) \n",
        "#  X_new_tfidf = tfidf_transformer.transform(X_new_counts)\n",
        "\n",
        "\n",
        "#  predicted = clf.predict(X_new_tfidf)   (name_of_your_model_object)\n",
        "#  it stores the prediction of doc_examples.\n",
        "\n",
        "\n"
      ],
      "execution_count": 0,
      "outputs": []
    },
    {
      "cell_type": "code",
      "metadata": {
        "id": "xeRvkq50-l9D",
        "colab_type": "code",
        "colab": {}
      },
      "source": [
        ""
      ],
      "execution_count": 0,
      "outputs": []
    }
  ]
}
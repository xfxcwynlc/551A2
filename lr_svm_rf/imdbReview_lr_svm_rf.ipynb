{
  "nbformat": 4,
  "nbformat_minor": 0,
  "metadata": {
    "kernelspec": {
      "display_name": "Python 3",
      "language": "python",
      "name": "python3"
    },
    "language_info": {
      "codemirror_mode": {
        "name": "ipython",
        "version": 3
      },
      "file_extension": ".py",
      "mimetype": "text/x-python",
      "name": "python",
      "nbconvert_exporter": "python",
      "pygments_lexer": "ipython3",
      "version": "3.7.4"
    },
    "colab": {
      "name": "imdbReview.ipynb",
      "provenance": [],
      "collapsed_sections": []
    }
  },
  "cells": [
    {
      "cell_type": "code",
      "metadata": {
        "id": "haA9qmqUD3sq",
        "colab_type": "code",
        "colab": {}
      },
      "source": [
        "import tarfile\n",
        "import os\n",
        "import shutil\n",
        "from urllib.request import urlopen\n",
        "from contextlib import closing\n",
        "\n",
        "#Data downloading \n",
        "\n",
        "#relative path of train/test data folder\n",
        "imdb_train_data_folder = \"./aclImdb/train\"\n",
        "imdb_test_data_folder = \"./aclImdb/test\"\n",
        "\n",
        "URL=\"http://ai.stanford.edu/~amaas/data/sentiment/aclImdb_v1.tar.gz\"\n",
        "ARCHIVE_NAME = \"aclImdb_v1.tar\"\n",
        "\n",
        "if not os.path.exists(\"aclImdb\"):\n",
        "    opener = urlopen(URL)\n",
        "    \n",
        "    #downloading and extract all files.\n",
        "    with open(ARCHIVE_NAME, 'wb') as archive:\n",
        "        archive.write(opener.read())\n",
        "        \n",
        "    with closing(tarfile.open(ARCHIVE_NAME, \"r:gz\")) as archive:\n",
        "        archive.extractall(path='.')\n",
        "        \n",
        "    test_folder = os.listdir(imdb_test_data_folder)\n",
        "    train_folder = os.listdir(imdb_train_data_folder)\n",
        "    \n",
        "    #remove .txt, .feat, and unsup folder.\n",
        "    for item in train_folder:\n",
        "        if (item.endswith(\".feat\") or item.endswith(\".txt\")):\n",
        "            os.remove(os.path.join(imdb_train_data_folder, item))\n",
        "    shutil.rmtree(os.path.join(imdb_train_data_folder,\"unsup\"))\n",
        "    for item in test_folder:\n",
        "        if (item.endswith(\".feat\") or item.endswith(\".txt\")):\n",
        "            os.remove(os.path.join(imdb_test_data_folder, item))\n",
        "    os.remove(ARCHIVE_NAME)\n",
        "#remove archieve\n",
        "\n"
      ],
      "execution_count": 0,
      "outputs": []
    },
    {
      "cell_type": "code",
      "metadata": {
        "id": "xuJxaRsuD3su",
        "colab_type": "code",
        "colab": {
          "base_uri": "https://localhost:8080/",
          "height": 52
        },
        "outputId": "27ed997c-645f-4f8b-cf6b-d2968cb24d18"
      },
      "source": [
        "import sys\n",
        "from sklearn.svm import LinearSVC\n",
        "from sklearn.pipeline import Pipeline\n",
        "from sklearn.model_selection import GridSearchCV\n",
        "from sklearn.datasets import load_files\n",
        "from sklearn.model_selection import train_test_split\n",
        "from sklearn import metrics\n",
        "\n",
        "#loads the data from folder\n",
        "imdb_train_data = load_files(imdb_train_data_folder,shuffle=False)\n",
        "print(\"train_samples: %d\" % len(imdb_train_data.data))\n",
        "\n",
        "imdb_test_data = load_files(imdb_test_data_folder,shuffle=False)\n",
        "print(\"test_samples: %d\" % len(imdb_test_data.data))\n"
      ],
      "execution_count": 9,
      "outputs": [
        {
          "output_type": "stream",
          "text": [
            "train_samples: 25000\n",
            "test_samples: 25000\n"
          ],
          "name": "stdout"
        }
      ]
    },
    {
      "cell_type": "code",
      "metadata": {
        "id": "ixE7o-fRD3sy",
        "colab_type": "code",
        "colab": {
          "base_uri": "https://localhost:8080/",
          "height": 52
        },
        "outputId": "460fb252-d3ae-4254-b4a4-059586329465"
      },
      "source": [
        "from sklearn.feature_extraction.text import CountVectorizer\n",
        "\n",
        "#Builds a dictionary of features and transforms \n",
        "#documents to feature vectors: \n",
        "count_vect= CountVectorizer()\n",
        "#second one exclude stopwords, like 'the','of'..\n",
        "count_vect2= CountVectorizer(stop_words='english') \n",
        "\n",
        "X_train_counts = count_vect.fit_transform(imdb_train_data.data)\n",
        "X_train_counts2 = count_vect2.fit_transform(imdb_train_data.data)\n",
        "\n",
        "print(X_train_counts.shape)\n",
        "print(X_train_counts2.shape)"
      ],
      "execution_count": 10,
      "outputs": [
        {
          "output_type": "stream",
          "text": [
            "(25000, 74849)\n",
            "(25000, 74538)\n"
          ],
          "name": "stdout"
        }
      ]
    },
    {
      "cell_type": "code",
      "metadata": {
        "id": "bm27Aml6D3s0",
        "colab_type": "code",
        "colab": {
          "base_uri": "https://localhost:8080/",
          "height": 52
        },
        "outputId": "2cace492-c4f4-4399-c90e-6725090da293"
      },
      "source": [
        "from sklearn.feature_extraction.text import TfidfTransformer\n",
        "\n",
        "#transform our count-matrix to a tf-idf representation\n",
        "#Similarly. a suffix 2 meaning we remove the stopwords\n",
        "tfidf_transformer = TfidfTransformer()\n",
        "tfidf_transformer2 = TfidfTransformer()\n",
        "X_train_tfidf = tfidf_transformer.fit_transform(X_train_counts)\n",
        "X_train_tfidf2 = tfidf_transformer2.fit_transform(X_train_counts2)\n",
        "\n",
        "print(X_train_tfidf.shape)\n",
        "print(X_train_tfidf2.shape)\n"
      ],
      "execution_count": 11,
      "outputs": [
        {
          "output_type": "stream",
          "text": [
            "(25000, 74849)\n",
            "(25000, 74538)\n"
          ],
          "name": "stdout"
        }
      ]
    },
    {
      "cell_type": "code",
      "metadata": {
        "id": "GIrAyPXLD3s3",
        "colab_type": "code",
        "colab": {}
      },
      "source": [
        "import pandas as pd\n",
        "\n",
        "# get the first document\n",
        "first_vector=X_train_tfidf[10]\n",
        "first_vector2=X_train_tfidf2[10]\n",
        " \n",
        "# show the TF-IDF scores , compare with/without stopwords\n",
        "df = pd.DataFrame(first_vector.T.todense(), index=count_vect.get_feature_names(), columns=[\"tfidf\"])\n",
        "df2 = pd.DataFrame(first_vector2.T.todense(), index=count_vect2.get_feature_names(), columns=[\"tfidf_stopwords\"])\n"
      ],
      "execution_count": 0,
      "outputs": []
    },
    {
      "cell_type": "code",
      "metadata": {
        "id": "iEMkivIfD3s6",
        "colab_type": "code",
        "colab": {
          "base_uri": "https://localhost:8080/",
          "height": 399
        },
        "outputId": "ac072641-37ff-4380-b210-a0d9b090bc63"
      },
      "source": [
        "df.sort_values(by=[\"tfidf\"],ascending=False)"
      ],
      "execution_count": 13,
      "outputs": [
        {
          "output_type": "execute_result",
          "data": {
            "text/html": [
              "<div>\n",
              "<style scoped>\n",
              "    .dataframe tbody tr th:only-of-type {\n",
              "        vertical-align: middle;\n",
              "    }\n",
              "\n",
              "    .dataframe tbody tr th {\n",
              "        vertical-align: top;\n",
              "    }\n",
              "\n",
              "    .dataframe thead th {\n",
              "        text-align: right;\n",
              "    }\n",
              "</style>\n",
              "<table border=\"1\" class=\"dataframe\">\n",
              "  <thead>\n",
              "    <tr style=\"text-align: right;\">\n",
              "      <th></th>\n",
              "      <th>tfidf</th>\n",
              "    </tr>\n",
              "  </thead>\n",
              "  <tbody>\n",
              "    <tr>\n",
              "      <th>the</th>\n",
              "      <td>0.252033</td>\n",
              "    </tr>\n",
              "    <tr>\n",
              "      <th>he</th>\n",
              "      <td>0.192326</td>\n",
              "    </tr>\n",
              "    <tr>\n",
              "      <th>accent</th>\n",
              "      <td>0.172488</td>\n",
              "    </tr>\n",
              "    <tr>\n",
              "      <th>of</th>\n",
              "      <td>0.167375</td>\n",
              "    </tr>\n",
              "    <tr>\n",
              "      <th>three</th>\n",
              "      <td>0.164270</td>\n",
              "    </tr>\n",
              "    <tr>\n",
              "      <th>...</th>\n",
              "      <td>...</td>\n",
              "    </tr>\n",
              "    <tr>\n",
              "      <th>flaw</th>\n",
              "      <td>0.000000</td>\n",
              "    </tr>\n",
              "    <tr>\n",
              "      <th>flavourless</th>\n",
              "      <td>0.000000</td>\n",
              "    </tr>\n",
              "    <tr>\n",
              "      <th>flavouring</th>\n",
              "      <td>0.000000</td>\n",
              "    </tr>\n",
              "    <tr>\n",
              "      <th>flavoured</th>\n",
              "      <td>0.000000</td>\n",
              "    </tr>\n",
              "    <tr>\n",
              "      <th>üvegtigris</th>\n",
              "      <td>0.000000</td>\n",
              "    </tr>\n",
              "  </tbody>\n",
              "</table>\n",
              "<p>74849 rows × 1 columns</p>\n",
              "</div>"
            ],
            "text/plain": [
              "                tfidf\n",
              "the          0.252033\n",
              "he           0.192326\n",
              "accent       0.172488\n",
              "of           0.167375\n",
              "three        0.164270\n",
              "...               ...\n",
              "flaw         0.000000\n",
              "flavourless  0.000000\n",
              "flavouring   0.000000\n",
              "flavoured    0.000000\n",
              "üvegtigris   0.000000\n",
              "\n",
              "[74849 rows x 1 columns]"
            ]
          },
          "metadata": {
            "tags": []
          },
          "execution_count": 13
        }
      ]
    },
    {
      "cell_type": "code",
      "metadata": {
        "id": "y5hV29QID3s9",
        "colab_type": "code",
        "colab": {
          "base_uri": "https://localhost:8080/",
          "height": 399
        },
        "outputId": "509ad6a3-c512-4d50-e29f-aec853253669"
      },
      "source": [
        "df2.sort_values(by=[\"tfidf_stopwords\"],ascending=False)"
      ],
      "execution_count": 14,
      "outputs": [
        {
          "output_type": "execute_result",
          "data": {
            "text/html": [
              "<div>\n",
              "<style scoped>\n",
              "    .dataframe tbody tr th:only-of-type {\n",
              "        vertical-align: middle;\n",
              "    }\n",
              "\n",
              "    .dataframe tbody tr th {\n",
              "        vertical-align: top;\n",
              "    }\n",
              "\n",
              "    .dataframe thead th {\n",
              "        text-align: right;\n",
              "    }\n",
              "</style>\n",
              "<table border=\"1\" class=\"dataframe\">\n",
              "  <thead>\n",
              "    <tr style=\"text-align: right;\">\n",
              "      <th></th>\n",
              "      <th>tfidf_stopwords</th>\n",
              "    </tr>\n",
              "  </thead>\n",
              "  <tbody>\n",
              "    <tr>\n",
              "      <th>accent</th>\n",
              "      <td>0.214215</td>\n",
              "    </tr>\n",
              "    <tr>\n",
              "      <th>spite</th>\n",
              "      <td>0.169063</td>\n",
              "    </tr>\n",
              "    <tr>\n",
              "      <th>actresses</th>\n",
              "      <td>0.149836</td>\n",
              "    </tr>\n",
              "    <tr>\n",
              "      <th>decrescendos</th>\n",
              "      <td>0.147218</td>\n",
              "    </tr>\n",
              "    <tr>\n",
              "      <th>bleibtreau</th>\n",
              "      <td>0.147218</td>\n",
              "    </tr>\n",
              "    <tr>\n",
              "      <th>...</th>\n",
              "      <td>...</td>\n",
              "    </tr>\n",
              "    <tr>\n",
              "      <th>flavin</th>\n",
              "      <td>0.000000</td>\n",
              "    </tr>\n",
              "    <tr>\n",
              "      <th>flavia</th>\n",
              "      <td>0.000000</td>\n",
              "    </tr>\n",
              "    <tr>\n",
              "      <th>flava</th>\n",
              "      <td>0.000000</td>\n",
              "    </tr>\n",
              "    <tr>\n",
              "      <th>flav</th>\n",
              "      <td>0.000000</td>\n",
              "    </tr>\n",
              "    <tr>\n",
              "      <th>üvegtigris</th>\n",
              "      <td>0.000000</td>\n",
              "    </tr>\n",
              "  </tbody>\n",
              "</table>\n",
              "<p>74538 rows × 1 columns</p>\n",
              "</div>"
            ],
            "text/plain": [
              "              tfidf_stopwords\n",
              "accent               0.214215\n",
              "spite                0.169063\n",
              "actresses            0.149836\n",
              "decrescendos         0.147218\n",
              "bleibtreau           0.147218\n",
              "...                       ...\n",
              "flavin               0.000000\n",
              "flavia               0.000000\n",
              "flava                0.000000\n",
              "flav                 0.000000\n",
              "üvegtigris           0.000000\n",
              "\n",
              "[74538 rows x 1 columns]"
            ]
          },
          "metadata": {
            "tags": []
          },
          "execution_count": 14
        }
      ]
    },
    {
      "cell_type": "markdown",
      "metadata": {
        "id": "I9bzNbxc-8kB",
        "colab_type": "text"
      },
      "source": [
        "# Models"
      ]
    },
    {
      "cell_type": "markdown",
      "metadata": {
        "id": "fHggwwqW_FLy",
        "colab_type": "text"
      },
      "source": [
        "## Logistic Regression"
      ]
    },
    {
      "cell_type": "code",
      "metadata": {
        "id": "9Vm17pC-_HvM",
        "colab_type": "code",
        "colab": {}
      },
      "source": [
        "from sklearn.linear_model import LogisticRegression\n",
        "# from sklearn.pipeline import Pipeline\n",
        "# text_clf_lr = Pipeline([('vect', CountVectorizer()), ('tfidf', TfidfTransformer()), ('clf_lr', LogisticRegression(multi_class = 'multinomial')),])\n",
        "# text_clf_lr.fit(twenty_train.data, twenty_train.target)\n",
        "clf_lr = LogisticRegression().fit(X_train_tfidf, imdb_train_data.target)"
      ],
      "execution_count": 0,
      "outputs": []
    },
    {
      "cell_type": "markdown",
      "metadata": {
        "id": "15k_tWnnAbil",
        "colab_type": "text"
      },
      "source": [
        "## SVM\n"
      ]
    },
    {
      "cell_type": "code",
      "metadata": {
        "id": "8ElSwwTD_Hy3",
        "colab_type": "code",
        "colab": {}
      },
      "source": [
        "from sklearn.linear_model import SGDClassifier\n",
        "# text_clf_svm = Pipeline([('vect', CountVectorizer()), ('tfidf', TfidfTransformer()), ('clf_svm', SGDClassifier()),])\n",
        "# text_clf_svm.fit(twenty_train.data, twenty_train.target)\n",
        "clf_svm = SGDClassifier().fit(X_train_tfidf, imdb_train_data.target)"
      ],
      "execution_count": 0,
      "outputs": []
    },
    {
      "cell_type": "markdown",
      "metadata": {
        "id": "kCY-lsNNBI8c",
        "colab_type": "text"
      },
      "source": [
        "## Random Forest"
      ]
    },
    {
      "cell_type": "code",
      "metadata": {
        "id": "q7tSuPcD_H11",
        "colab_type": "code",
        "colab": {}
      },
      "source": [
        "from sklearn.ensemble import RandomForestClassifier\n",
        "# text_clf_rf = Pipeline([('vect', CountVectorizer()), ('tfidf', TfidfTransformer()), ('clf_rf', RandomForestClassifier()),])\n",
        "# text_clf_rf.fit(twenty_train.data, twenty_train.target)\n",
        "clf_rf = RandomForestClassifier().fit(X_train_tfidf2, imdb_train_data.target)"
      ],
      "execution_count": 0,
      "outputs": []
    },
    {
      "cell_type": "code",
      "metadata": {
        "id": "liMfNqLa-85o",
        "colab_type": "code",
        "colab": {}
      },
      "source": [
        "  "
      ],
      "execution_count": 0,
      "outputs": []
    },
    {
      "cell_type": "markdown",
      "metadata": {
        "id": "5crS4vlO_ipn",
        "colab_type": "text"
      },
      "source": [
        "## Evaluate"
      ]
    },
    {
      "cell_type": "code",
      "metadata": {
        "id": "YwjxtWSb_uN5",
        "colab_type": "code",
        "outputId": "32207b3a-73a7-459e-aa63-b75d4c00360e",
        "colab": {
          "base_uri": "https://localhost:8080/",
          "height": 604
        }
      },
      "source": [
        "import numpy as np\n",
        "\n",
        "X_test_counts = count_vect.transform(imdb_test_data.data)\n",
        "X_test_tfidf = tfidf_transformer.transform(X_test_counts)\n",
        "\n",
        "print(\"Logistic Regresssion:\")\n",
        "predicted_lr = clf_lr.predict(X_test_tfidf)\n",
        "print(np.mean(predicted_lr == imdb_test_data.target))\n",
        "from sklearn import metrics\n",
        "print(metrics.classification_report(imdb_test_data.target, predicted_lr, target_names=imdb_test_data.target_names))\n",
        "\n",
        "print(\"SVM:\")\n",
        "predicted_svm = clf_svm.predict(X_test_tfidf)\n",
        "print(np.mean(predicted_svm == imdb_test_data.target))\n",
        "from sklearn import metrics\n",
        "print(metrics.classification_report(imdb_test_data.target, predicted_svm, target_names=imdb_test_data.target_names))\n",
        "\n",
        "X_test_counts_rf = count_vect2.transform(imdb_test_data.data)\n",
        "X_test_tfidf_rf = tfidf_transformer2.transform(X_test_counts_rf)\n",
        "print(\"Random Forest:\")\n",
        "predicted_rf = clf_rf.predict(X_test_tfidf_rf)\n",
        "print(np.mean(predicted_rf == imdb_test_data.target))\n",
        "from sklearn import metrics\n",
        "print(metrics.classification_report(imdb_test_data.target, predicted_rf, target_names=imdb_test_data.target_names))"
      ],
      "execution_count": 36,
      "outputs": [
        {
          "output_type": "stream",
          "text": [
            "Logistic Regresssion:\n",
            "0.88316\n",
            "              precision    recall  f1-score   support\n",
            "\n",
            "         neg       0.88      0.88      0.88     12500\n",
            "         pos       0.88      0.88      0.88     12500\n",
            "\n",
            "    accuracy                           0.88     25000\n",
            "   macro avg       0.88      0.88      0.88     25000\n",
            "weighted avg       0.88      0.88      0.88     25000\n",
            "\n",
            "SVM:\n",
            "0.88532\n",
            "              precision    recall  f1-score   support\n",
            "\n",
            "         neg       0.89      0.88      0.88     12500\n",
            "         pos       0.88      0.89      0.89     12500\n",
            "\n",
            "    accuracy                           0.89     25000\n",
            "   macro avg       0.89      0.89      0.89     25000\n",
            "weighted avg       0.89      0.89      0.89     25000\n",
            "\n",
            "Random Forest:\n",
            "0.84976\n",
            "              precision    recall  f1-score   support\n",
            "\n",
            "         neg       0.85      0.86      0.85     12500\n",
            "         pos       0.85      0.84      0.85     12500\n",
            "\n",
            "    accuracy                           0.85     25000\n",
            "   macro avg       0.85      0.85      0.85     25000\n",
            "weighted avg       0.85      0.85      0.85     25000\n",
            "\n"
          ],
          "name": "stdout"
        }
      ]
    },
    {
      "cell_type": "code",
      "metadata": {
        "id": "Qdtb2ac0_uSE",
        "colab_type": "code",
        "colab": {}
      },
      "source": [
        ""
      ],
      "execution_count": 0,
      "outputs": []
    },
    {
      "cell_type": "code",
      "metadata": {
        "id": "3KkxMcCl-l8-",
        "colab_type": "code",
        "colab": {}
      },
      "source": [
        " #   Training a classifier example:\n",
        " #   from sklearn.naive_bayes import MultinomialNB\n",
        " #   clf = MultinomialNB().fit(X_train_tfidf, twenty_train.target)\n",
        "    \n"
      ],
      "execution_count": 0,
      "outputs": []
    },
    {
      "cell_type": "code",
      "metadata": {
        "id": "aJrv7sKs-l9B",
        "colab_type": "code",
        "colab": {}
      },
      "source": [
        "#  Predict an outcome on new document:\n",
        "#  Doc_examples = ['God is love', 'GPU is fast']\n",
        "\n",
        "#  convert documents into tf-idf.  \n",
        "#  X_new_counts = count_vect.transform(Doc_examples) \n",
        "#  X_new_tfidf = tfidf_transformer.transform(X_new_counts)\n",
        "\n",
        "\n",
        "#  predicted = clf.predict(X_new_tfidf)   (name_of_your_model_object)\n",
        "#  it stores the prediction of doc_examples.\n",
        "\n",
        "\n"
      ],
      "execution_count": 0,
      "outputs": []
    }
  ]
}
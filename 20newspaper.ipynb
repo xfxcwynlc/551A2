{
 "cells": [
  {
   "cell_type": "code",
   "execution_count": 5,
   "metadata": {},
   "outputs": [],
   "source": [
    "#import 20newsgroups datasets from sklearn\n",
    "from sklearn.datasets import fetch_20newsgroups\n",
    "twenty_train = fetch_20newsgroups(subset='train',remove=(['headers','footers', 'quotes']))"
   ]
  },
  {
   "cell_type": "code",
   "execution_count": 6,
   "metadata": {},
   "outputs": [
    {
     "data": {
      "text/plain": [
       "['alt.atheism',\n",
       " 'comp.graphics',\n",
       " 'comp.os.ms-windows.misc',\n",
       " 'comp.sys.ibm.pc.hardware',\n",
       " 'comp.sys.mac.hardware',\n",
       " 'comp.windows.x',\n",
       " 'misc.forsale',\n",
       " 'rec.autos',\n",
       " 'rec.motorcycles',\n",
       " 'rec.sport.baseball',\n",
       " 'rec.sport.hockey',\n",
       " 'sci.crypt',\n",
       " 'sci.electronics',\n",
       " 'sci.med',\n",
       " 'sci.space',\n",
       " 'soc.religion.christian',\n",
       " 'talk.politics.guns',\n",
       " 'talk.politics.mideast',\n",
       " 'talk.politics.misc',\n",
       " 'talk.religion.misc']"
      ]
     },
     "execution_count": 6,
     "metadata": {},
     "output_type": "execute_result"
    }
   ],
   "source": [
    "#list of categories(labels)\n",
    "twenty_train.target_names"
   ]
  },
  {
   "cell_type": "code",
   "execution_count": 7,
   "metadata": {},
   "outputs": [
    {
     "name": "stdout",
     "output_type": "stream",
     "text": [
      "(11314, 101631)\n",
      "(11314, 101322)\n"
     ]
    }
   ],
   "source": [
    "from sklearn.feature_extraction.text import CountVectorizer\n",
    "\n",
    "#counts the occurence of each word. \n",
    "count_vect = CountVectorizer()\n",
    "\n",
    "#second one exclude stopwords, like 'the','of'..\n",
    "count_vect2= CountVectorizer(stop_words='english') \n",
    "\n",
    "X_train_counts = count_vect.fit_transform(twenty_train.data)\n",
    "X_train_counts2 = count_vect2.fit_transform(twenty_train.data)\n",
    "\n",
    "print(X_train_counts.shape)\n",
    "print(X_train_counts2.shape)\n",
    "\n",
    "# count_vect.vocabulary_.get(u'algorithm')"
   ]
  },
  {
   "cell_type": "code",
   "execution_count": 10,
   "metadata": {},
   "outputs": [
    {
     "name": "stdout",
     "output_type": "stream",
     "text": [
      "(11314, 101631)\n",
      "(11314, 101322)\n"
     ]
    }
   ],
   "source": [
    "from sklearn.feature_extraction.text import TfidfTransformer\n",
    "#transform from occurrences to tf-idf \n",
    "#tf-idf: 1. Decide the number of occurrences of each word in a document by total number of words in document. (Term Frequences tf)\n",
    "#        2. It does another refinement. Downscaling weights for words that occurring in many documents.\n",
    "tfidf_transformer = TfidfTransformer()\n",
    "tfidf_transformer2 = TfidfTransformer()\n",
    "\n",
    "#use X_train_tfidf to train the MODEL\n",
    "X_train_tfidf = tfidf_transformer.fit_transform(X_train_counts)\n",
    "X_train_tfidf2 = tfidf_transformer2.fit_transform(X_train_counts2)\n",
    "\n",
    "X_test = fetch_20newsgroups(subset='test', shuffle=True, random_state=42)\n",
    "docs_test = X_test.data\n",
    "#use docs_test to fit.\n",
    "print(X_train_tfidf.shape)\n",
    "print(X_train_tfidf2.shape)"
   ]
  },
  {
   "cell_type": "code",
   "execution_count": 14,
   "metadata": {},
   "outputs": [],
   "source": [
    "import pandas as pd\n",
    "\n",
    "# get the first document\n",
    "first_vector=X_train_tfidf[13]\n",
    "first_vector2=X_train_tfidf2[13]\n",
    " \n",
    "# show the TF-IDF scores , compare with/without stopwords\n",
    "df = pd.DataFrame(first_vector.T.todense(), index=count_vect.get_feature_names(), columns=[\"tfidf\"])\n",
    "df2 = pd.DataFrame(first_vector2.T.todense(), index=count_vect2.get_feature_names(), columns=[\"tfidf_stopwords\"])\n",
    "\n"
   ]
  },
  {
   "cell_type": "code",
   "execution_count": 15,
   "metadata": {},
   "outputs": [
    {
     "data": {
      "text/html": [
       "<div>\n",
       "<style scoped>\n",
       "    .dataframe tbody tr th:only-of-type {\n",
       "        vertical-align: middle;\n",
       "    }\n",
       "\n",
       "    .dataframe tbody tr th {\n",
       "        vertical-align: top;\n",
       "    }\n",
       "\n",
       "    .dataframe thead th {\n",
       "        text-align: right;\n",
       "    }\n",
       "</style>\n",
       "<table border=\"1\" class=\"dataframe\">\n",
       "  <thead>\n",
       "    <tr style=\"text-align: right;\">\n",
       "      <th></th>\n",
       "      <th>tfidf</th>\n",
       "    </tr>\n",
       "  </thead>\n",
       "  <tbody>\n",
       "    <tr>\n",
       "      <td>ssf</td>\n",
       "      <td>0.356347</td>\n",
       "    </tr>\n",
       "    <tr>\n",
       "      <td>flights</td>\n",
       "      <td>0.298625</td>\n",
       "    </tr>\n",
       "    <tr>\n",
       "      <td>option</td>\n",
       "      <td>0.242772</td>\n",
       "    </tr>\n",
       "    <tr>\n",
       "      <td>capability</td>\n",
       "      <td>0.242602</td>\n",
       "    </tr>\n",
       "    <tr>\n",
       "      <td>the</td>\n",
       "      <td>0.216754</td>\n",
       "    </tr>\n",
       "    <tr>\n",
       "      <td>...</td>\n",
       "      <td>...</td>\n",
       "    </tr>\n",
       "    <tr>\n",
       "      <td>discern</td>\n",
       "      <td>0.000000</td>\n",
       "    </tr>\n",
       "    <tr>\n",
       "      <td>discarded</td>\n",
       "      <td>0.000000</td>\n",
       "    </tr>\n",
       "    <tr>\n",
       "      <td>discard</td>\n",
       "      <td>0.000000</td>\n",
       "    </tr>\n",
       "    <tr>\n",
       "      <td>discarcina</td>\n",
       "      <td>0.000000</td>\n",
       "    </tr>\n",
       "    <tr>\n",
       "      <td>ýé</td>\n",
       "      <td>0.000000</td>\n",
       "    </tr>\n",
       "  </tbody>\n",
       "</table>\n",
       "<p>101631 rows × 1 columns</p>\n",
       "</div>"
      ],
      "text/plain": [
       "               tfidf\n",
       "ssf         0.356347\n",
       "flights     0.298625\n",
       "option      0.242772\n",
       "capability  0.242602\n",
       "the         0.216754\n",
       "...              ...\n",
       "discern     0.000000\n",
       "discarded   0.000000\n",
       "discard     0.000000\n",
       "discarcina  0.000000\n",
       "ýé          0.000000\n",
       "\n",
       "[101631 rows x 1 columns]"
      ]
     },
     "execution_count": 15,
     "metadata": {},
     "output_type": "execute_result"
    }
   ],
   "source": [
    "df.sort_values(by=[\"tfidf\"],ascending=False)"
   ]
  },
  {
   "cell_type": "code",
   "execution_count": 16,
   "metadata": {},
   "outputs": [
    {
     "data": {
      "text/html": [
       "<div>\n",
       "<style scoped>\n",
       "    .dataframe tbody tr th:only-of-type {\n",
       "        vertical-align: middle;\n",
       "    }\n",
       "\n",
       "    .dataframe tbody tr th {\n",
       "        vertical-align: top;\n",
       "    }\n",
       "\n",
       "    .dataframe thead th {\n",
       "        text-align: right;\n",
       "    }\n",
       "</style>\n",
       "<table border=\"1\" class=\"dataframe\">\n",
       "  <thead>\n",
       "    <tr style=\"text-align: right;\">\n",
       "      <th></th>\n",
       "      <th>tfidf_stopwords</th>\n",
       "    </tr>\n",
       "  </thead>\n",
       "  <tbody>\n",
       "    <tr>\n",
       "      <td>ssf</td>\n",
       "      <td>0.383239</td>\n",
       "    </tr>\n",
       "    <tr>\n",
       "      <td>flights</td>\n",
       "      <td>0.321161</td>\n",
       "    </tr>\n",
       "    <tr>\n",
       "      <td>option</td>\n",
       "      <td>0.261093</td>\n",
       "    </tr>\n",
       "    <tr>\n",
       "      <td>capability</td>\n",
       "      <td>0.260910</td>\n",
       "    </tr>\n",
       "    <tr>\n",
       "      <td>module</td>\n",
       "      <td>0.224627</td>\n",
       "    </tr>\n",
       "    <tr>\n",
       "      <td>...</td>\n",
       "      <td>...</td>\n",
       "    </tr>\n",
       "    <tr>\n",
       "      <td>disappoint</td>\n",
       "      <td>0.000000</td>\n",
       "    </tr>\n",
       "    <tr>\n",
       "      <td>disappering</td>\n",
       "      <td>0.000000</td>\n",
       "    </tr>\n",
       "    <tr>\n",
       "      <td>disappears</td>\n",
       "      <td>0.000000</td>\n",
       "    </tr>\n",
       "    <tr>\n",
       "      <td>disappearing</td>\n",
       "      <td>0.000000</td>\n",
       "    </tr>\n",
       "    <tr>\n",
       "      <td>ýé</td>\n",
       "      <td>0.000000</td>\n",
       "    </tr>\n",
       "  </tbody>\n",
       "</table>\n",
       "<p>101322 rows × 1 columns</p>\n",
       "</div>"
      ],
      "text/plain": [
       "              tfidf_stopwords\n",
       "ssf                  0.383239\n",
       "flights              0.321161\n",
       "option               0.261093\n",
       "capability           0.260910\n",
       "module               0.224627\n",
       "...                       ...\n",
       "disappoint           0.000000\n",
       "disappering          0.000000\n",
       "disappears           0.000000\n",
       "disappearing         0.000000\n",
       "ýé                   0.000000\n",
       "\n",
       "[101322 rows x 1 columns]"
      ]
     },
     "execution_count": 16,
     "metadata": {},
     "output_type": "execute_result"
    }
   ],
   "source": [
    "df2.sort_values(by=[\"tfidf_stopwords\"],ascending=False)"
   ]
  },
  {
   "cell_type": "code",
   "execution_count": 19,
   "metadata": {},
   "outputs": [],
   "source": [
    " #   Training a classifier example:\n",
    " #   from sklearn.naive_bayes import MultinomialNB\n",
    " #   clf = MultinomialNB().fit(X_train_tfidf, twenty_train.target)\n",
    "    \n"
   ]
  },
  {
   "cell_type": "code",
   "execution_count": 14,
   "metadata": {},
   "outputs": [],
   "source": [
    "#  Predict an outcome on new document:\n",
    "#  Doc_examples = ['God is love', 'GPU is fast']\n",
    "\n",
    "#  convert documents into tf-idf.  \n",
    "#  X_new_counts = count_vect.transform(Doc_examples) \n",
    "#  X_new_tfidf = tfidf_transformer.transform(X_new_counts)\n",
    "\n",
    "\n",
    "#  predicted = clf.predict(X_new_tfidf)   (name_of_your_model_object)\n",
    "#  it stores the prediction of doc_examples.\n",
    "\n",
    "\n"
   ]
  },
  {
   "cell_type": "code",
   "execution_count": null,
   "metadata": {},
   "outputs": [],
   "source": []
  }
 ],
 "metadata": {
  "kernelspec": {
   "display_name": "Python 3",
   "language": "python",
   "name": "python3"
  },
  "language_info": {
   "codemirror_mode": {
    "name": "ipython",
    "version": 3
   },
   "file_extension": ".py",
   "mimetype": "text/x-python",
   "name": "python",
   "nbconvert_exporter": "python",
   "pygments_lexer": "ipython3",
   "version": "3.7.4"
  }
 },
 "nbformat": 4,
 "nbformat_minor": 4
}
